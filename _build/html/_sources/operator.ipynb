{
 "cells": [
  {
   "cell_type": "markdown",
   "id": "8b24f5d3",
   "metadata": {},
   "source": [
    "# Operators"
   ]
  },
  {
   "cell_type": "code",
   "execution_count": 9,
   "id": "5482b331",
   "metadata": {},
   "outputs": [],
   "source": [
    "from qiskit.quantum_info import SparsePauliOp, random_pauli, random_hermitian, random_clifford, random_unitary, pauli_basis, Pauli, PauliList, random_density_matrix\n",
    "import numpy as np"
   ]
  },
  {
   "cell_type": "markdown",
   "id": "20f66836",
   "metadata": {},
   "source": [
    "## Gate identity "
   ]
  },
  {
   "cell_type": "code",
   "execution_count": 73,
   "id": "6859c72c",
   "metadata": {},
   "outputs": [
    {
     "data": {
      "text/plain": [
       "True"
      ]
     },
     "execution_count": 73,
     "metadata": {},
     "output_type": "execute_result"
    }
   ],
   "source": [
    "## H = 1/sqrt(2) (X + Z)\n",
    "hdm = 1/np.sqrt(2)*(SparsePauliOp('Z') + SparsePauliOp('X'))\n",
    "## HZH = X\n",
    "(hdm @ SparsePauliOp('Z') @ hdm).simplify() == SparsePauliOp('X')"
   ]
  },
  {
   "cell_type": "code",
   "execution_count": 56,
   "id": "d77e5812",
   "metadata": {},
   "outputs": [
    {
     "data": {
      "text/plain": [
       "SparsePauliOp(['Y'],\n",
       "              coeffs=[-1.+1.23259516e-32j])"
      ]
     },
     "execution_count": 56,
     "metadata": {},
     "output_type": "execute_result"
    }
   ],
   "source": [
    "## Clifford gate maps one Pauli to another Pauli\n",
    "theta = np.pi/4\n",
    "s_gate = np.exp(1j*theta)*(np.cos(-theta)*SparsePauliOp('I') + 1j*np.sin(-theta)*SparsePauliOp('Z'))\n",
    "(s_gate.adjoint() @ SparsePauliOp('X') @ s_gate).simplify() "
   ]
  },
  {
   "cell_type": "code",
   "execution_count": 57,
   "id": "362cb29b",
   "metadata": {},
   "outputs": [
    {
     "data": {
      "text/plain": [
       "SparsePauliOp(['X', 'Y'],\n",
       "              coeffs=[ 0.70710678+2.55564914e-17j, -0.70710678+1.21941298e-17j])"
      ]
     },
     "execution_count": 57,
     "metadata": {},
     "output_type": "execute_result"
    }
   ],
   "source": [
    "## T gate transforms one Pauli to two Paulis\n",
    "# t_gate = np.array([[1, 0], [0, np.exp(1j*np.pi/4)]])\n",
    "theta = np.pi/8\n",
    "t_gate = np.exp(1j*theta)*(np.cos(-theta)*SparsePauliOp('I') + 1j*np.sin(-theta)*SparsePauliOp('Z'))\n",
    "# t_gate\n",
    "# t_gate == t_gate_p.to_matrix()\n",
    "(t_gate.adjoint() @ SparsePauliOp('X') @ t_gate).simplify()"
   ]
  },
  {
   "cell_type": "code",
   "execution_count": 62,
   "id": "61778b02",
   "metadata": {},
   "outputs": [
    {
     "data": {
      "text/plain": [
       "array([[1.+0.j, 0.+0.j, 0.+0.j, 0.+0.j],\n",
       "       [0.+0.j, 1.+0.j, 0.+0.j, 0.+0.j],\n",
       "       [0.+0.j, 0.+0.j, 0.+0.j, 1.+0.j],\n",
       "       [0.+0.j, 0.+0.j, 1.+0.j, 0.+0.j]])"
      ]
     },
     "execution_count": 62,
     "metadata": {},
     "output_type": "execute_result"
    }
   ],
   "source": [
    "## CNOT gate\n",
    "cnot = 0.5*(SparsePauliOp('I')+SparsePauliOp('Z')).tensor(SparsePauliOp('I')) + 0.5*(SparsePauliOp('I')-SparsePauliOp('Z')).tensor(SparsePauliOp('X'))\n",
    "cnot.to_matrix()"
   ]
  },
  {
   "cell_type": "code",
   "execution_count": 13,
   "id": "e35bd5dd",
   "metadata": {},
   "outputs": [
    {
     "name": "stdout",
     "output_type": "stream",
     "text": [
      "Operator([[1.+0.j, 0.+0.j],\n",
      "          [0.+0.j, 0.+0.j]],\n",
      "         input_dims=(2,), output_dims=(2,))\n"
     ]
    }
   ],
   "source": [
    "Statevector.from_label('0').to_operator()"
   ]
  },
  {
   "cell_type": "code",
   "execution_count": 5,
   "id": "a6c7b32a",
   "metadata": {},
   "outputs": [
    {
     "name": "stdout",
     "output_type": "stream",
     "text": [
      "Operator([[1.+0.j, 0.+0.j, 0.+0.j, 0.+0.j],\n",
      "          [0.+0.j, 1.+0.j, 0.+0.j, 0.+0.j],\n",
      "          [0.+0.j, 0.+0.j, 0.+0.j, 1.+0.j],\n",
      "          [0.+0.j, 0.+0.j, 1.+0.j, 0.+0.j]],\n",
      "         input_dims=(2, 2), output_dims=(2, 2))\n"
     ]
    }
   ],
   "source": [
    "from qiskit.quantum_info import Statevector, SparsePauliOp\n",
    "Statevector.from_label('0').to_operator().tensor(SparsePauliOp('I'))+Statevector.from_label('1').to_operator().tensor(SparsePauliOp('X'))"
   ]
  },
  {
   "cell_type": "markdown",
   "id": "d5f62482",
   "metadata": {},
   "source": [
    "### Rotation (real-time evolution) of a Pauli string\n",
    "\n",
    "https://github.com/DavitKhach/quantum-algorithms-tutorials/blob/master/Hamiltonian_simulation.ipynb\n",
    "\n",
    "$$\n",
    "e^{-i XX t} = \\text{CNOT} (I\\otimes e^{-i X t}) \\text{CNOT}\n",
    "$$\n",
    "\n",
    "[1] J.D. Whitfield, J. Biamonte and A. Aspuru-Guzik, Molecular Physics, \"Simulation of electronic structure Hamiltonians using quantum computers\" (2011)"
   ]
  },
  {
   "cell_type": "code",
   "execution_count": 69,
   "id": "dbb5e87a",
   "metadata": {},
   "outputs": [
    {
     "name": "stdout",
     "output_type": "stream",
     "text": [
      "[[0.54030231+0.j         0.        +0.j         0.        +0.j\n",
      "  0.        +0.84147098j]\n",
      " [0.        +0.j         0.54030231+0.j         0.        +0.84147098j\n",
      "  0.        +0.j        ]\n",
      " [0.        +0.j         0.        +0.84147098j 0.54030231+0.j\n",
      "  0.        +0.j        ]\n",
      " [0.        +0.84147098j 0.        +0.j         0.        +0.j\n",
      "  0.54030231+0.j        ]]\n"
     ]
    },
    {
     "data": {
      "text/plain": [
       "array([[0.54030231+0.j        , 0.        +0.j        ,\n",
       "        0.        +0.j        , 0.        +0.84147098j],\n",
       "       [0.        +0.j        , 0.54030231+0.j        ,\n",
       "        0.        +0.84147098j, 0.        +0.j        ],\n",
       "       [0.        +0.j        , 0.        +0.84147098j,\n",
       "        0.54030231+0.j        , 0.        +0.j        ],\n",
       "       [0.        +0.84147098j, 0.        +0.j        ,\n",
       "        0.        +0.j        , 0.54030231+0.j        ]])"
      ]
     },
     "execution_count": 69,
     "metadata": {},
     "output_type": "execute_result"
    }
   ],
   "source": [
    "from scipy.linalg import expm\n",
    "t = 1\n",
    "print(expm(1j*t*SparsePauliOp('XX').to_matrix()))\n",
    "cnot.to_matrix() @ np.kron(expm(1j*t*SparsePauliOp('X').to_matrix()), SparsePauliOp('I').to_matrix()) @ cnot.to_matrix()"
   ]
  },
  {
   "cell_type": "markdown",
   "id": "a299aec9",
   "metadata": {},
   "source": [
    "## Observables"
   ]
  },
  {
   "cell_type": "code",
   "execution_count": 2,
   "id": "64d12a4c",
   "metadata": {},
   "outputs": [
    {
     "data": {
      "text/plain": [
       "array([[ 0.+0.j,  1.+0.j],\n",
       "       [-1.+0.j,  0.+0.j]])"
      ]
     },
     "execution_count": 2,
     "metadata": {},
     "output_type": "execute_result"
    }
   ],
   "source": [
    "np.linalg.multi_dot([SparsePauliOp('Z'), SparsePauliOp('X')])"
   ]
  },
  {
   "cell_type": "code",
   "execution_count": 5,
   "id": "af232ab6",
   "metadata": {},
   "outputs": [
    {
     "data": {
      "text/plain": [
       "SparsePauliOp(['XZ'],\n",
       "              coeffs=[1.+0.j])"
      ]
     },
     "execution_count": 5,
     "metadata": {},
     "output_type": "execute_result"
    }
   ],
   "source": [
    "SparsePauliOp('IZ') @ SparsePauliOp('XI')"
   ]
  },
  {
   "cell_type": "markdown",
   "id": "a1a45019",
   "metadata": {},
   "source": [
    "### Pauli"
   ]
  },
  {
   "cell_type": "code",
   "execution_count": 4,
   "id": "82e526be",
   "metadata": {},
   "outputs": [
    {
     "data": {
      "text/plain": [
       "PauliList(['III', 'IIX', 'IIY', 'IIZ', 'IXI', 'IYI', 'IZI', 'XII', 'YII',\n",
       "           'ZII', 'IXX', 'IXY', 'IXZ', 'IYX', 'IYY', 'IYZ', 'IZX', 'IZY',\n",
       "           'IZZ', 'XIX', 'XIY', 'XIZ', 'XXI', 'XYI', 'XZI', 'YIX', 'YIY',\n",
       "           'YIZ', 'YXI', 'YYI', 'YZI', 'ZIX', 'ZIY', 'ZIZ', 'ZXI', 'ZYI',\n",
       "           'ZZI', 'XXX', 'XXY', 'XXZ', 'XYX', 'XYY', 'XYZ', 'XZX', 'XZY',\n",
       "           'XZZ', 'YXX', 'YXY', 'YXZ', 'YYX', 'YYY', 'YYZ', 'YZX', 'YZY',\n",
       "           'YZZ', 'ZXX', 'ZXY', 'ZXZ', 'ZYX', 'ZYY', 'ZYZ', 'ZZX', 'ZZY',\n",
       "           'ZZZ'])"
      ]
     },
     "execution_count": 4,
     "metadata": {},
     "output_type": "execute_result"
    }
   ],
   "source": [
    "pauli_basis(3, weight=True)"
   ]
  },
  {
   "cell_type": "code",
   "execution_count": 5,
   "id": "ab1edc76",
   "metadata": {},
   "outputs": [
    {
     "name": "stdout",
     "output_type": "stream",
     "text": [
      "1.  ['II', 'ZI', '-iYY']\n",
      "2.  ['iXI']\n",
      "3.  ['iXI', 'iZZ']\n",
      "4.  ['YZ', '-iIX']\n"
     ]
    }
   ],
   "source": [
    "# 1. init from list[str]\n",
    "pauli_list = PauliList([\"II\", \"+ZI\", \"-iYY\"])\n",
    "print(\"1. \", pauli_list)\n",
    "pauli1 = Pauli(\"iXI\")\n",
    "pauli2 = Pauli(\"iZZ\")\n",
    "# 2. init from Pauli\n",
    "print(\"2. \", PauliList(pauli1))\n",
    "# 3. init from list[Pauli]\n",
    "print(\"3. \", PauliList([pauli1, pauli2]))\n",
    "# 4. init from np.ndarray\n",
    "z = np.array([[True, True], [False, False]])\n",
    "x = np.array([[False, True], [True, False]])\n",
    "phase = np.array([0, 1])\n",
    "pauli_list = PauliList.from_symplectic(z, x, phase)\n",
    "print(\"4. \", pauli_list)"
   ]
  },
  {
   "cell_type": "markdown",
   "id": "2c9e65e8",
   "metadata": {},
   "source": [
    "### random pauli"
   ]
  },
  {
   "cell_type": "code",
   "execution_count": 19,
   "id": "e88a7cc4",
   "metadata": {},
   "outputs": [
    {
     "data": {
      "text/plain": [
       "Pauli('ZYX')"
      ]
     },
     "execution_count": 19,
     "metadata": {},
     "output_type": "execute_result"
    }
   ],
   "source": [
    "random_pauli(3)"
   ]
  },
  {
   "cell_type": "markdown",
   "id": "64c69ef6",
   "metadata": {},
   "source": [
    "### random pauli with fixed weight"
   ]
  },
  {
   "cell_type": "markdown",
   "id": "c5d3033f",
   "metadata": {},
   "source": [
    "### random Hermitian"
   ]
  },
  {
   "cell_type": "code",
   "execution_count": 22,
   "id": "aad2e009",
   "metadata": {},
   "outputs": [
    {
     "name": "stdout",
     "output_type": "stream",
     "text": [
      "Operator([[-0.55707039+0.j        ,  0.84206074+0.26216488j,\n",
      "           -0.43266326-0.16221111j,  0.05284663-0.61020708j],\n",
      "          [ 0.84206074-0.26216488j, -0.17670864+0.j        ,\n",
      "           -0.96305908+0.12418724j,  0.26573818-0.38604076j],\n",
      "          [-0.43266326+0.16221111j, -0.96305908-0.12418724j,\n",
      "            0.7518909 +0.j        , -0.82331876-0.15159718j],\n",
      "          [ 0.05284663+0.61020708j,  0.26573818+0.38604076j,\n",
      "           -0.82331876+0.15159718j, -3.26656753+0.j        ]],\n",
      "         input_dims=(2, 2), output_dims=(2, 2))\n"
     ]
    }
   ],
   "source": [
    "random_hermitian(4)"
   ]
  },
  {
   "cell_type": "markdown",
   "id": "40ed2fee",
   "metadata": {},
   "source": [
    "### Energy"
   ]
  },
  {
   "cell_type": "code",
   "execution_count": null,
   "id": "eb78baf6",
   "metadata": {},
   "outputs": [],
   "source": []
  },
  {
   "cell_type": "markdown",
   "id": "fe120002",
   "metadata": {},
   "source": [
    "### Spin: magnetization, correlation, OTOC"
   ]
  },
  {
   "cell_type": "code",
   "execution_count": 4,
   "id": "7e01d90f",
   "metadata": {},
   "outputs": [
    {
     "data": {
      "text/plain": [
       "SparsePauliOp(['IIIZ', 'IIZI', 'IZII', 'ZIII'],\n",
       "              coeffs=[0.25+0.j, 0.25+0.j, 0.25+0.j, 0.25+0.j])"
      ]
     },
     "execution_count": 4,
     "metadata": {},
     "output_type": "execute_result"
    }
   ],
   "source": [
    "n  = 4\n",
    "magn_op = SparsePauliOp.from_sparse_list([('Z', [i], 1/n) for i in range(0, n)], n)\n",
    "corr_op = SparsePauliOp.from_sparse_list([('ZZ', [i,i+1], 1/(n-1)) for i in range(0, n-1)], n)\n",
    "magn_op"
   ]
  },
  {
   "cell_type": "markdown",
   "id": "9953ce8d",
   "metadata": {},
   "source": [
    "### Expectation value"
   ]
  },
  {
   "cell_type": "code",
   "execution_count": null,
   "id": "10437725",
   "metadata": {},
   "outputs": [
    {
     "data": {
      "text/plain": [
       "(0.024740064059499516+0j)"
      ]
     },
     "metadata": {},
     "output_type": "display_data"
    }
   ],
   "source": [
    "from qiskit.quantum_info import DensityMatrix\n",
    "\n",
    "n = 4\n",
    "dm = random_density_matrix(2**n)\n",
    "dm.expectation_value(SparsePauliOp('X'*n))"
   ]
  },
  {
   "cell_type": "markdown",
   "id": "dc805515",
   "metadata": {},
   "source": [
    "## Unitaries"
   ]
  },
  {
   "cell_type": "markdown",
   "id": "811c4ebc",
   "metadata": {},
   "source": [
    "### Random unitary"
   ]
  },
  {
   "cell_type": "code",
   "execution_count": 24,
   "id": "c2c270c4",
   "metadata": {},
   "outputs": [
    {
     "name": "stdout",
     "output_type": "stream",
     "text": [
      "Operator([[ 0.23134833+0.04369654j, -0.32008479+0.25942886j,\n",
      "            0.82028777-0.18289223j, -0.15268571-0.21254751j],\n",
      "          [-0.09206845-0.63233525j, -0.6159064 -0.37495105j,\n",
      "           -0.08357862-0.07129137j, -0.20810924+0.12794238j],\n",
      "          [-0.56136202+0.34079881j,  0.17333584-0.45960825j,\n",
      "            0.30110793-0.17322879j, -0.39228545+0.22996028j],\n",
      "          [-0.28081993-0.16159555j,  0.06509485-0.25454079j,\n",
      "            0.21719542-0.337287j  ,  0.79330534-0.18902107j]],\n",
      "         input_dims=(2, 2), output_dims=(2, 2))\n"
     ]
    }
   ],
   "source": [
    "random_unitary(4)"
   ]
  },
  {
   "cell_type": "markdown",
   "id": "1b9c3404",
   "metadata": {},
   "source": [
    "### Random gate"
   ]
  },
  {
   "cell_type": "code",
   "execution_count": 25,
   "id": "6f3ea6aa",
   "metadata": {},
   "outputs": [
    {
     "data": {
      "text/plain": [
       "Clifford(array([[False,  True,  True, False,  True,  True,  True, False, False],\n",
       "       [ True, False,  True, False,  True,  True,  True, False,  True],\n",
       "       [False,  True,  True, False, False, False, False,  True, False],\n",
       "       [False, False, False, False,  True,  True,  True, False, False],\n",
       "       [False,  True,  True,  True, False,  True, False, False, False],\n",
       "       [False,  True,  True, False, False,  True,  True,  True,  True],\n",
       "       [ True, False,  True,  True, False, False, False, False, False],\n",
       "       [ True, False, False,  True, False, False,  True,  True, False]]))"
      ]
     },
     "execution_count": 25,
     "metadata": {},
     "output_type": "execute_result"
    }
   ],
   "source": [
    "random_clifford(4)"
   ]
  },
  {
   "cell_type": "markdown",
   "id": "387c5763",
   "metadata": {},
   "source": [
    "## Measures"
   ]
  },
  {
   "cell_type": "markdown",
   "id": "f8c22860",
   "metadata": {},
   "source": [
    "### (Anti) commutator"
   ]
  },
  {
   "cell_type": "markdown",
   "id": "c445f6d2",
   "metadata": {},
   "source": [
    "## Norms"
   ]
  },
  {
   "cell_type": "markdown",
   "id": "915b263c",
   "metadata": {},
   "source": [
    "### Vector induced norm"
   ]
  },
  {
   "cell_type": "code",
   "execution_count": null,
   "id": "96dd2d8b",
   "metadata": {},
   "outputs": [
    {
     "name": "stdout",
     "output_type": "stream",
     "text": [
      "op:  SparsePauliOp(['XIIZI', 'IYIIY'],\n",
      "              coeffs=[1.+0.j, 2.+0.j])\n",
      "Spectral norm:  3.0000000000000004\n",
      "Trace norm:  63.999999999999986\n",
      "Frobenius norm:  12.649110640673518\n"
     ]
    }
   ],
   "source": [
    "op = SparsePauliOp.from_list([(\"XIIZI\", 1), (\"IYIIY\", 2)])\n",
    "print('op: ', op)\n",
    "print('Spectral norm: ', norm(op, ord=2))\n",
    "print('Trace norm: ', norm(op, ord='nuc'))\n",
    "print('Frobenius norm: ', norm(op, ord='fro'))\n",
    "# print(norm(SparsePauliOp.from_list([(\"XYZI\", 1)]), ord='nuc'))"
   ]
  },
  {
   "cell_type": "markdown",
   "id": "f736ec33",
   "metadata": {},
   "source": [
    "### Schatten p norm"
   ]
  },
  {
   "cell_type": "code",
   "execution_count": null,
   "id": "1866ad8c",
   "metadata": {},
   "outputs": [
    {
     "data": {
      "text/plain": [
       "3.605551275463989"
      ]
     },
     "metadata": {},
     "output_type": "display_data"
    }
   ],
   "source": [
    "test = SparsePauliOp.from_list([('XX', 2), ('YX', 3)])\n",
    "np.linalg.norm(test.to_matrix(), ord='nuc')\n",
    "np.linalg.norm(test.to_matrix(), ord=1)"
   ]
  },
  {
   "cell_type": "markdown",
   "id": "bcba2d92",
   "metadata": {},
   "source": [
    "## Entenglement "
   ]
  },
  {
   "cell_type": "code",
   "execution_count": null,
   "id": "3ba6d208",
   "metadata": {},
   "outputs": [],
   "source": [
    "### purity\n",
    "### entropy\n",
    "### negativity\n",
    "### concurrence"
   ]
  },
  {
   "cell_type": "code",
   "execution_count": null,
   "id": "16d8bc21",
   "metadata": {},
   "outputs": [
    {
     "data": {
      "text/plain": [
       "3.253540852652231"
      ]
     },
     "metadata": {},
     "output_type": "display_data"
    }
   ],
   "source": [
    "n = 4\n",
    "ket = random_statevector(4).data\n",
    "# ket = Statevector.from_label('+').data\n",
    "dm = random_density_matrix(2**n).data\n",
    "entropy(ket, base=2)\n",
    "entropy(dm, base=2)"
   ]
  },
  {
   "cell_type": "code",
   "execution_count": 12,
   "id": "476f64d3",
   "metadata": {},
   "outputs": [
    {
     "data": {
      "text/plain": [
       "Text(0.5, 1.0, 'Entropy distribution')"
      ]
     },
     "execution_count": 12,
     "metadata": {},
     "output_type": "execute_result"
    },
    {
     "data": {
      "image/png": "[encoded data removed]",
      "text/plain": [
       "<Figure size 700x500 with 1 Axes>"
      ]
     },
     "metadata": {
      "image/png": {
       "height": 497,
       "width": 629
      }
     },
     "output_type": "display_data"
    }
   ],
   "source": [
    "from qiskit.quantum_info import partial_trace, entropy\n",
    "entropy_list = [entropy(partial_trace(random_density_matrix(2**n).data, [0,1]), base=2) for _ in range(1000)]\n",
    "\n",
    "from utils import *\n",
    "fig, ax = plt.subplots(figsize=(7, 5))\n",
    "ax.hist(entropy_list, bins=50, edgecolor='black')\n",
    "ax.set_xlabel('Entropy'); ax.set_ylabel('Frequency'); ax.set_title('Entropy distribution')"
   ]
  },
  {
   "cell_type": "code",
   "execution_count": null,
   "id": "b2ef4296",
   "metadata": {},
   "outputs": [
    {
     "data": {
      "text/plain": [
       "SparsePauliOp(['IXIII'],\n",
       "              coeffs=[2.+0.j])"
      ]
     },
     "metadata": {},
     "output_type": "display_data"
    }
   ],
   "source": [
    "commutator(SparsePauliOp(\"XIIZI\"), SparsePauliOp(\"XXIZI\")).simplify()\n",
    "anti_commutator(SparsePauliOp(\"XIIZI\"), SparsePauliOp(\"XXIZI\")).simplify()"
   ]
  },
  {
   "cell_type": "markdown",
   "id": "3b4b21ae",
   "metadata": {},
   "source": [
    "## Quantum circuit"
   ]
  },
  {
   "cell_type": "code",
   "execution_count": 8,
   "id": "50a6ff1f",
   "metadata": {},
   "outputs": [
    {
     "data": {
      "image/png": "[encoded data removed]",
      "text/plain": [
       "<Figure size 705.552x785.944 with 1 Axes>"
      ]
     },
     "execution_count": 8,
     "metadata": {
      "image/png": {
       "height": 625,
       "width": 563
      }
     },
     "output_type": "execute_result"
    }
   ],
   "source": [
    "from qiskit import QuantumCircuit\n",
    "qc = QuantumCircuit(9)\n",
    "for idx in range(4):\n",
    "   qc.h(idx)\n",
    "   qc.cx(idx, idx+5)\n",
    " \n",
    "qc.cx(1, 7)\n",
    "qc.x(8)\n",
    "qc.x(7)\n",
    "qc.x(6)\n",
    "qc.draw('mpl')"
   ]
  }
 ],
 "metadata": {
  "kernelspec": {
   "display_name": "Python 3.8.8 ('base')",
   "language": "python",
   "name": "python3"
  },
  "language_info": {
   "codemirror_mode": {
    "name": "ipython",
    "version": 3
   },
   "file_extension": ".py",
   "mimetype": "text/x-python",
   "name": "python",
   "nbconvert_exporter": "python",
   "pygments_lexer": "ipython3",
   "version": "3.10.14"
  },
  "vscode": {
   "interpreter": {
    "hash": "4e8ef2f9fcac0817bca9a7ca376f64f20b4df5ea3bf7af756a50bda7d3557ea6"
   }
  }
 },
 "nbformat": 4,
 "nbformat_minor": 5
}
