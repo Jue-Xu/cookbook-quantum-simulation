{
 "cells": [
  {
   "cell_type": "markdown",
   "id": "8b24f5d3",
   "metadata": {},
   "source": [
    "# Channels\n",
    "\n",
    "- John Watrous: https://youtu.be/cMl-xIDSmXI"
   ]
  },
  {
   "cell_type": "code",
   "execution_count": 35,
   "id": "5482b331",
   "metadata": {},
   "outputs": [],
   "source": [
    "from qiskit import QuantumCircuit\n",
    "from qiskit_aer import AerSimulator\n",
    "from qiskit.quantum_info import Kraus, SuperOp, random_quantum_channel, PTM, Choi, Chi\n",
    "from qiskit.visualization import plot_histogram\n",
    "from qiskit.transpiler.preset_passmanagers import generate_preset_pass_manager\n",
    "\n",
    "# Import from Qiskit Aer noise module\n",
    "from qiskit_aer.noise import (\n",
    "    NoiseModel,\n",
    "    QuantumError,\n",
    "    ReadoutError,\n",
    "    depolarizing_error,\n",
    "    pauli_error,\n",
    "    thermal_relaxation_error,\n",
    ")"
   ]
  },
  {
   "cell_type": "markdown",
   "id": "ddc7b1fd",
   "metadata": {},
   "source": [
    "## Representation"
   ]
  },
  {
   "cell_type": "markdown",
   "id": "70fbdf81",
   "metadata": {},
   "source": [
    "### Stinespring"
   ]
  },
  {
   "cell_type": "code",
   "execution_count": 130,
   "id": "a4b2376e",
   "metadata": {},
   "outputs": [
    {
     "data": {
      "text/plain": [
       "Stinespring([[ 0.03849769+0.02036647j, -0.698461  -0.09797363j],\n",
       "             [-0.0819251 +0.11373122j, -0.05175353+0.46665556j],\n",
       "             [-0.15717588+0.11410124j,  0.07142001+0.09756838j],\n",
       "             [ 0.00692667+0.03544208j,  0.00834859+0.31888786j],\n",
       "             [ 0.14203522-0.13634234j, -0.09643058+0.12861438j],\n",
       "             [-0.09117948-0.34925634j,  0.02034073+0.10721822j],\n",
       "             [-0.56400128+0.6295895j , -0.09551063-0.09133277j],\n",
       "             [-0.0836914 -0.22110541j, -0.33102433-0.030609j  ]],\n",
       "            input_dims=(2,), output_dims=(2,))"
      ]
     },
     "execution_count": 130,
     "metadata": {},
     "output_type": "execute_result"
    }
   ],
   "source": [
    "## random quantum channel in Stinespring form\n",
    "from qiskit.quantum_info import random_quantum_channel\n",
    "random_quantum_channel(2, 2)"
   ]
  },
  {
   "cell_type": "markdown",
   "id": "398ba931",
   "metadata": {},
   "source": [
    "### Pauli Transfer Matrix (PTM) \n",
    "https://docs.quantum.ibm.com/api/qiskit/qiskit.quantum_info.PTM\n",
    "\n",
    "Pauli Transfer Matrix (PTM) representation of a Quantum Channel.\n"
   ]
  },
  {
   "cell_type": "code",
   "execution_count": 96,
   "id": "9eadfea1",
   "metadata": {},
   "outputs": [
    {
     "name": "stdout",
     "output_type": "stream",
     "text": [
      "num_qubits:  1\n"
     ]
    },
    {
     "data": {
      "text/plain": [
       "PTM([[ 1.00000000e+00-9.52787305e-18j, -2.08166817e-17+0.00000000e+00j,\n",
       "       2.77555756e-17+0.00000000e+00j, -3.33066907e-16-6.88837700e-18j],\n",
       "     [-9.09489194e-02+0.00000000e+00j, -3.72195758e-01+0.00000000e+00j,\n",
       "       2.01356134e-02+0.00000000e+00j, -1.88193128e-01+0.00000000e+00j],\n",
       "     [ 1.07371749e-01+0.00000000e+00j,  3.69139869e-01+0.00000000e+00j,\n",
       "      -1.20645755e-01+0.00000000e+00j, -4.81331497e-01+0.00000000e+00j],\n",
       "     [-1.56748013e-01+8.54415943e-18j,  1.14009043e-01+0.00000000e+00j,\n",
       "      -4.85784633e-01+0.00000000e+00j, -1.72685021e-01+4.62303219e-19j]],\n",
       "    input_dims=(2,), output_dims=(2,))"
      ]
     },
     "execution_count": 96,
     "metadata": {},
     "output_type": "execute_result"
    }
   ],
   "source": [
    "rqc = PTM(random_quantum_channel(2, 2))\n",
    "print('num_qubits: ', rqc.num_qubits)\n",
    "rqc"
   ]
  },
  {
   "cell_type": "code",
   "execution_count": 60,
   "id": "d5e0cce4",
   "metadata": {},
   "outputs": [
    {
     "data": {
      "text/plain": [
       "PTM([[ 1.00000000e+00-2.40259894e-18j, -3.65286159e-17+1.06400890e-17j,\n",
       "      -3.25381917e-17-3.48337848e-19j,  8.10475729e-17-2.95275781e-18j],\n",
       "     [-5.03863959e-01-3.97212202e-18j,  8.72077238e-02+7.41407448e-18j,\n",
       "      -4.36095725e-02-9.82187287e-18j, -2.73736239e-02+4.42821287e-18j],\n",
       "     [ 3.66501244e-01+1.11459993e-17j, -5.33738689e-02-5.89698216e-18j,\n",
       "       8.10998407e-02-1.25503009e-17j, -9.32187871e-02+2.08189613e-18j],\n",
       "     [-2.18558871e-01-7.45593673e-18j,  5.86923694e-02-9.37442687e-18j,\n",
       "       2.00888015e-01-1.19893761e-17j, -7.11955275e-03-7.38513938e-19j]],\n",
       "    input_dims=(2,), output_dims=(2,))"
      ]
     },
     "execution_count": 60,
     "metadata": {},
     "output_type": "execute_result"
    }
   ],
   "source": [
    "rqc.compose(rqc)"
   ]
  },
  {
   "cell_type": "code",
   "execution_count": 56,
   "id": "a656e232",
   "metadata": {},
   "outputs": [
    {
     "data": {
      "text/plain": [
       "True"
      ]
     },
     "execution_count": 56,
     "metadata": {},
     "output_type": "execute_result"
    }
   ],
   "source": [
    "rqc.power(4)\n",
    "rqc.adjoint()\n",
    "rqc.is_unitary()\n",
    "rqc.is_cptp() # cp, tp, unitary"
   ]
  },
  {
   "cell_type": "markdown",
   "id": "f2d144cc",
   "metadata": {},
   "source": [
    "### Kraus"
   ]
  },
  {
   "cell_type": "code",
   "execution_count": 132,
   "id": "a8692063",
   "metadata": {},
   "outputs": [
    {
     "data": {
      "text/plain": [
       "Kraus([[[ 0.40797192-0.21907435j, -0.04302789-0.46760563j],\n",
       "        [-0.02762658-0.30734793j, -0.02968974+0.05646335j]],\n",
       "\n",
       "       [[-0.31594324-0.24582982j,  0.22465833-0.25842112j],\n",
       "        [-0.29698492+0.15016866j,  0.33448024-0.03782379j]],\n",
       "\n",
       "       [[ 0.29609313-0.1089395j ,  0.17119268-0.49213072j],\n",
       "        [-0.19383795-0.15392175j,  0.30024441-0.14315255j]],\n",
       "\n",
       "       [[ 0.15164906-0.06327016j,  0.22433035+0.00823283j],\n",
       "        [ 0.47619079-0.06909437j, -0.07334134+0.32703776j]]],\n",
       "      input_dims=(2,), output_dims=(2,))"
      ]
     },
     "execution_count": 132,
     "metadata": {},
     "output_type": "execute_result"
    }
   ],
   "source": [
    "from qiskit.quantum_info import Kraus\n",
    "rqc_kraus = Kraus(random_quantum_channel(2, 2))\n",
    "rqc_kraus"
   ]
  },
  {
   "cell_type": "markdown",
   "id": "7b3c8a3c",
   "metadata": {},
   "source": [
    "### SuperOp"
   ]
  },
  {
   "cell_type": "code",
   "execution_count": 139,
   "id": "e31b9be2",
   "metadata": {},
   "outputs": [
    {
     "data": {
      "text/plain": [
       "SuperOp([[ 0.35072481-2.86610956e-18j, -0.14007719-7.01581293e-02j,\n",
       "          -0.14007719+7.01581293e-02j,  0.31865109-3.53173471e-18j],\n",
       "         [ 0.30439855+2.40310794e-01j, -0.10928561+8.78976417e-03j,\n",
       "          -0.03296743-5.41481067e-03j,  0.20376672+2.19722547e-01j],\n",
       "         [ 0.30439855-2.40310794e-01j, -0.03296743+5.41481067e-03j,\n",
       "          -0.10928561-8.78976417e-03j,  0.20376672-2.19722547e-01j],\n",
       "         [ 0.64927519+1.59760684e-19j,  0.14007719+7.01581293e-02j,\n",
       "           0.14007719-7.01581293e-02j,  0.68134891-2.87830609e-18j]],\n",
       "        input_dims=(2,), output_dims=(2,))"
      ]
     },
     "execution_count": 139,
     "metadata": {},
     "output_type": "execute_result"
    }
   ],
   "source": [
    "from qiskit.quantum_info import SuperOp\n",
    "rqc_superop = SuperOp(random_quantum_channel(2, 2))\n",
    "rqc_superop"
   ]
  },
  {
   "cell_type": "markdown",
   "id": "b73a9dce",
   "metadata": {},
   "source": [
    "### Choi "
   ]
  },
  {
   "cell_type": "code",
   "execution_count": 115,
   "id": "5cb1724d",
   "metadata": {},
   "outputs": [
    {
     "data": {
      "text/plain": [
       "Choi([[ 5.79887972e-01-1.35042435e-17j, -3.83764342e-01+8.14399434e-02j,\n",
       "       -3.70265417e-04+8.17702963e-02j,  2.46990613e-01+4.54470675e-02j],\n",
       "      [-3.83764342e-01-8.14399434e-02j,  4.20112028e-01+1.10093054e-17j,\n",
       "       -9.87365214e-02-2.68883634e-01j,  3.70265417e-04-8.17702963e-02j],\n",
       "      [-3.70265417e-04-8.17702963e-02j, -9.87365214e-02+2.68883634e-01j,\n",
       "        4.72549646e-01+1.03334622e-18j, -1.67075303e-01+1.19816900e-01j],\n",
       "      [ 2.46990613e-01-4.54470675e-02j,  3.70265417e-04+8.17702963e-02j,\n",
       "       -1.67075303e-01-1.19816900e-01j,  5.27450354e-01-4.91109101e-18j]],\n",
       "     input_dims=(2,), output_dims=(2,))"
      ]
     },
     "execution_count": 115,
     "metadata": {},
     "output_type": "execute_result"
    }
   ],
   "source": [
    "from qiskit.quantum_info import Choi\n",
    "\n",
    "rqc_choi = Choi(random_quantum_channel(2, 2))\n",
    "rqc_choi"
   ]
  },
  {
   "cell_type": "markdown",
   "id": "dfcdd0e1",
   "metadata": {},
   "source": [
    "### Chi"
   ]
  },
  {
   "cell_type": "code",
   "execution_count": 128,
   "id": "88c545fd",
   "metadata": {},
   "outputs": [
    {
     "data": {
      "text/plain": [
       "Chi([[ 0.11737619-3.46944695e-18j, -0.06467212+2.71818885e-02j,\n",
       "      -0.00854459+2.51498699e-01j, -0.02205206+4.17213701e-02j],\n",
       "     [-0.06467212-2.71818885e-02j,  0.39124272+6.93889390e-18j,\n",
       "       0.09044332+2.20520604e-02j,  0.05584356-8.54458617e-03j],\n",
       "     [-0.00854459-2.51498699e-01j,  0.09044332-2.20520604e-02j,\n",
       "       1.3812895 +6.93889390e-18j,  0.13840778+6.46721240e-02j],\n",
       "     [-0.02205206-4.17213701e-02j,  0.05584356+8.54458617e-03j,\n",
       "       0.13840778-6.46721240e-02j,  0.11009159-3.46944695e-18j]],\n",
       "    input_dims=(2,), output_dims=(2,))"
      ]
     },
     "execution_count": 128,
     "metadata": {},
     "output_type": "execute_result"
    }
   ],
   "source": [
    "from qiskit.quantum_info import Chi\n",
    "rqc_chi = Chi(random_quantum_channel(2, 2))\n",
    "rqc_chi"
   ]
  },
  {
   "cell_type": "markdown",
   "id": "fe557d72",
   "metadata": {},
   "source": [
    "## Measures"
   ]
  },
  {
   "cell_type": "code",
   "execution_count": 160,
   "id": "1e31f7fc",
   "metadata": {},
   "outputs": [
    {
     "data": {
      "text/plain": [
       "0.5734653416497364"
      ]
     },
     "execution_count": 160,
     "metadata": {},
     "output_type": "execute_result"
    }
   ],
   "source": [
    "from qiskit.quantum_info import average_gate_fidelity\n",
    "average_gate_fidelity(random_quantum_channel(2, 2))"
   ]
  },
  {
   "cell_type": "code",
   "execution_count": 171,
   "id": "c19ce54b",
   "metadata": {},
   "outputs": [
    {
     "data": {
      "text/plain": [
       "0.5232190682672958"
      ]
     },
     "execution_count": 171,
     "metadata": {},
     "output_type": "execute_result"
    }
   ],
   "source": [
    "from qiskit.quantum_info import process_fidelity\n",
    "process_fidelity(random_quantum_channel(2, 2), random_quantum_channel(2, 2))"
   ]
  },
  {
   "cell_type": "code",
   "execution_count": 180,
   "id": "27913856",
   "metadata": {},
   "outputs": [
    {
     "data": {
      "text/plain": [
       "0.4836283339885725"
      ]
     },
     "execution_count": 180,
     "metadata": {},
     "output_type": "execute_result"
    }
   ],
   "source": [
    "from qiskit.quantum_info import gate_error\n",
    "gate_error(random_quantum_channel(2, 2))"
   ]
  },
  {
   "cell_type": "code",
   "execution_count": 6,
   "id": "a3ae5f49",
   "metadata": {},
   "outputs": [
    {
     "name": "stdout",
     "output_type": "stream",
     "text": [
      "QuantumError on 1 qubits. Noise circuits:\n",
      "  P(0) = 0.01, Circuit = \n",
      "   ┌───┐\n",
      "q: ┤ X ├\n",
      "   └───┘\n",
      "  P(1) = 0.01, Circuit = \n",
      "   ┌───┐\n",
      "q: ┤ Y ├\n",
      "   └───┘\n",
      "  P(2) = 0.01, Circuit = \n",
      "   ┌───┐\n",
      "q: ┤ Z ├\n",
      "   └───┘\n",
      "  P(3) = 0.97, Circuit = \n",
      "   ┌───┐\n",
      "q: ┤ I ├\n",
      "   └───┘\n",
      "diamond distance: 0.06000010519101877 with noise rate 0.03\n"
     ]
    }
   ],
   "source": [
    "from qiskit.quantum_info import diamond_norm, random_quantum_channel\n",
    "diamond_norm(random_quantum_channel(2, 2)-random_quantum_channel(2, 2))\n",
    "\n",
    "from qiskit.quantum_info import diamond_norm, random_quantum_channel\n",
    "from qiskit.quantum_info import Kraus, SuperOp, PTM\n",
    "\n",
    "# diamond_norm(random_quantum_channel(2, 2)-random_quantum_channel(2, 2))\n",
    "## single qubit depolarizing channel\n",
    "from qiskit_aer.noise import (pauli_error)\n",
    "# error = depolarizing_error(0.05, 1)\n",
    "# error\n",
    "p_error = 0.03\n",
    "ic = pauli_error([('I', 1)])\n",
    "dep_err = pauli_error([('X', p_error/3), ('Y', p_error/3), ('Z', p_error/3), ('I', 1 - p_error)])\n",
    "print(dep_err)\n",
    "dep_ptm = PTM(dep_err)\n",
    "dep_ptm\n",
    "print(f'diamond distance: {diamond_norm(dep_ptm - ic)} with noise rate {p_error}')"
   ]
  },
  {
   "cell_type": "markdown",
   "id": "e10f3644",
   "metadata": {},
   "source": [
    "## Measurement"
   ]
  },
  {
   "cell_type": "markdown",
   "id": "4aaa76ef",
   "metadata": {},
   "source": [
    "### POVM"
   ]
  },
  {
   "cell_type": "markdown",
   "id": "77a69140",
   "metadata": {},
   "source": [
    "### Kraus"
   ]
  }
 ],
 "metadata": {
  "kernelspec": {
   "display_name": "Python 3.8.8 ('base')",
   "language": "python",
   "name": "python3"
  },
  "language_info": {
   "codemirror_mode": {
    "name": "ipython",
    "version": 3
   },
   "file_extension": ".py",
   "mimetype": "text/x-python",
   "name": "python",
   "nbconvert_exporter": "python",
   "pygments_lexer": "ipython3",
   "version": "3.10.14"
  },
  "vscode": {
   "interpreter": {
    "hash": "4e8ef2f9fcac0817bca9a7ca376f64f20b4df5ea3bf7af756a50bda7d3557ea6"
   }
  }
 },
 "nbformat": 4,
 "nbformat_minor": 5
}