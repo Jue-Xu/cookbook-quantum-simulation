{
 "cells": [
  {
   "cell_type": "markdown",
   "id": "8b24f5d3",
   "metadata": {},
   "source": [
    "# Channels\n",
    "\n",
    "- John Watrous: https://youtu.be/cMl-xIDSmXI"
   ]
  },
  {
   "cell_type": "code",
   "execution_count": 1,
   "id": "5482b331",
   "metadata": {},
   "outputs": [],
   "source": [
    "from qiskit import QuantumCircuit\n",
    "from qiskit_aer import AerSimulator\n",
    "from qiskit.quantum_info import Kraus, SuperOp, random_quantum_channel, PTM, Choi, Chi\n",
    "from qiskit.visualization import plot_histogram\n",
    "from qiskit.transpiler.preset_passmanagers import generate_preset_pass_manager\n",
    "\n",
    "# Import from Qiskit Aer noise module\n",
    "from qiskit_aer.noise import (\n",
    "    NoiseModel,\n",
    "    QuantumError,\n",
    "    ReadoutError,\n",
    "    depolarizing_error,\n",
    "    pauli_error,\n",
    "    thermal_relaxation_error,\n",
    ")"
   ]
  },
  {
   "cell_type": "markdown",
   "id": "ddc7b1fd",
   "metadata": {},
   "source": [
    "## Representation"
   ]
  },
  {
   "cell_type": "markdown",
   "id": "70fbdf81",
   "metadata": {},
   "source": [
    "### Stinespring"
   ]
  },
  {
   "cell_type": "code",
   "execution_count": 2,
   "id": "a4b2376e",
   "metadata": {},
   "outputs": [
    {
     "data": {
      "text/plain": [
       "Stinespring([[-1.84796689e-01+4.83217328e-02j,\n",
       "               3.99955719e-01-2.48291212e-01j],\n",
       "             [ 5.96016205e-01+6.09589027e-02j,\n",
       "              -3.12358221e-02-5.05571346e-02j],\n",
       "             [ 3.33019089e-01-5.17947047e-01j,\n",
       "              -9.34057539e-02+2.37915475e-01j],\n",
       "             [ 1.19865525e-01+2.31413847e-01j,\n",
       "               3.56704809e-02+4.30014803e-01j],\n",
       "             [-3.24384603e-01-1.28544091e-01j,\n",
       "              -2.63861055e-01+9.89309197e-02j],\n",
       "             [ 6.69170877e-02+1.37804433e-01j,\n",
       "               9.98885126e-02+5.67348315e-01j],\n",
       "             [ 6.28553829e-03-5.95132179e-02j,\n",
       "              -3.05303074e-01-3.98991394e-02j],\n",
       "             [ 1.20864703e-04-9.31378629e-02j,\n",
       "              -1.31407241e-01+3.08098537e-04j]],\n",
       "            input_dims=(2,), output_dims=(2,))"
      ]
     },
     "execution_count": 2,
     "metadata": {},
     "output_type": "execute_result"
    }
   ],
   "source": [
    "## random quantum channel in Stinespring form\n",
    "from qiskit.quantum_info import random_quantum_channel\n",
    "random_quantum_channel(2, 2)"
   ]
  },
  {
   "cell_type": "markdown",
   "id": "398ba931",
   "metadata": {},
   "source": [
    "### Pauli Transfer Matrix (PTM) \n",
    "https://docs.quantum.ibm.com/api/qiskit/qiskit.quantum_info.PTM\n",
    "\n",
    "Pauli Transfer Matrix (PTM) representation of a Quantum Channel.\n"
   ]
  },
  {
   "cell_type": "code",
   "execution_count": 3,
   "id": "9eadfea1",
   "metadata": {},
   "outputs": [
    {
     "name": "stdout",
     "output_type": "stream",
     "text": [
      "num_qubits:  1\n"
     ]
    },
    {
     "data": {
      "text/plain": [
       "PTM([[ 1.00000000e+00+5.43524853e-19j, -6.93889390e-17+1.38777878e-17j,\n",
       "      -4.16333634e-17+0.00000000e+00j,  1.11022302e-16+9.37659175e-18j],\n",
       "     [-4.27078280e-01+0.00000000e+00j,  7.95246871e-03+0.00000000e+00j,\n",
       "      -1.43499917e-02+0.00000000e+00j, -1.77472031e-02+0.00000000e+00j],\n",
       "     [ 2.57450076e-01+0.00000000e+00j,  1.73501826e-01+0.00000000e+00j,\n",
       "       1.51773091e-01+0.00000000e+00j,  1.21362615e-02+0.00000000e+00j],\n",
       "     [-3.31656669e-01+8.61052764e-18j,  8.74606271e-02+0.00000000e+00j,\n",
       "       3.24536178e-01+0.00000000e+00j,  2.22823308e-01-4.31378871e-18j]],\n",
       "    input_dims=(2,), output_dims=(2,))"
      ]
     },
     "execution_count": 3,
     "metadata": {},
     "output_type": "execute_result"
    }
   ],
   "source": [
    "rqc = PTM(random_quantum_channel(2, 2))\n",
    "print('num_qubits: ', rqc.num_qubits)\n",
    "rqc"
   ]
  },
  {
   "cell_type": "code",
   "execution_count": 4,
   "id": "d5e0cce4",
   "metadata": {},
   "outputs": [
    {
     "data": {
      "text/plain": [
       "PTM([[ 1.00000000e+00-7.94966123e-18j, -6.74541368e-17+1.48082331e-17j,\n",
       "      -1.09257032e-17+2.84389711e-18j,  1.36486845e-16+1.12196230e-17j],\n",
       "     [-4.28283035e-01-3.84940442e-19j, -3.97868952e-03-5.92690175e-18j,\n",
       "      -8.05166994e-03+0.00000000e+00j, -4.26977984e-03-3.92798099e-18j],\n",
       "     [ 2.18400137e-01+2.44430130e-19j,  2.87741214e-02+3.57283753e-18j,\n",
       "       2.44839774e-02+0.00000000e+00j,  1.46702770e-03+2.36165099e-18j],\n",
       "     [-3.59358175e-01+1.17795870e-17j,  7.64914137e-02-4.97994754e-18j,\n",
       "       1.20315025e-01-1.39998050e-18j,  5.20367010e-02-5.03223453e-18j]],\n",
       "    input_dims=(2,), output_dims=(2,))"
      ]
     },
     "execution_count": 4,
     "metadata": {},
     "output_type": "execute_result"
    }
   ],
   "source": [
    "rqc.compose(rqc)"
   ]
  },
  {
   "cell_type": "code",
   "execution_count": 5,
   "id": "a656e232",
   "metadata": {},
   "outputs": [
    {
     "data": {
      "text/plain": [
       "True"
      ]
     },
     "execution_count": 5,
     "metadata": {},
     "output_type": "execute_result"
    }
   ],
   "source": [
    "rqc.power(4)\n",
    "rqc.adjoint()\n",
    "rqc.is_unitary()\n",
    "rqc.is_cptp() # cp, tp, unitary"
   ]
  },
  {
   "cell_type": "markdown",
   "id": "f2d144cc",
   "metadata": {},
   "source": [
    "### Kraus"
   ]
  },
  {
   "cell_type": "code",
   "execution_count": 6,
   "id": "a8692063",
   "metadata": {},
   "outputs": [
    {
     "data": {
      "text/plain": [
       "Kraus([[[-0.21937625-0.3432328j ,  0.04299193-0.00354056j],\n",
       "        [-0.13219999-0.01223734j, -0.42600098+0.22683753j]],\n",
       "\n",
       "       [[-0.14047125-0.13301201j,  0.44918203+0.35293566j],\n",
       "        [ 0.23139116+0.10174378j, -0.07922607+0.14796983j]],\n",
       "\n",
       "       [[-0.11802655+0.06385861j,  0.42335462+0.155765j  ],\n",
       "        [ 0.39481031-0.40751119j, -0.00957106-0.19313002j]],\n",
       "\n",
       "       [[ 0.38444718-0.18631373j,  0.19457416+0.32520188j],\n",
       "        [ 0.43185509+0.07849005j,  0.0702214 -0.14586998j]]],\n",
       "      input_dims=(2,), output_dims=(2,))"
      ]
     },
     "execution_count": 6,
     "metadata": {},
     "output_type": "execute_result"
    }
   ],
   "source": [
    "from qiskit.quantum_info import Kraus\n",
    "rqc_kraus = Kraus(random_quantum_channel(2, 2))\n",
    "rqc_kraus"
   ]
  },
  {
   "cell_type": "markdown",
   "id": "7b3c8a3c",
   "metadata": {},
   "source": [
    "### SuperOp"
   ]
  },
  {
   "cell_type": "code",
   "execution_count": 7,
   "id": "e31b9be2",
   "metadata": {},
   "outputs": [
    {
     "data": {
      "text/plain": [
       "SuperOp([[ 0.28793863-1.45385027e-18j,  0.30452688+1.29052334e-01j,\n",
       "           0.30452688-1.29052334e-01j,  0.66223641-1.12120469e-17j],\n",
       "         [-0.12479291+3.72730842e-01j,  0.05868011-1.65638036e-01j,\n",
       "           0.10320367+4.67896567e-01j,  0.08994902-3.25730486e-01j],\n",
       "         [-0.12479291-3.72730842e-01j,  0.10320367-4.67896567e-01j,\n",
       "           0.05868011+1.65638036e-01j,  0.08994902+3.25730486e-01j],\n",
       "         [ 0.71206137-2.06229643e-18j, -0.30452688-1.29052334e-01j,\n",
       "          -0.30452688+1.29052334e-01j,  0.33776359-1.93357060e-18j]],\n",
       "        input_dims=(2,), output_dims=(2,))"
      ]
     },
     "execution_count": 7,
     "metadata": {},
     "output_type": "execute_result"
    }
   ],
   "source": [
    "from qiskit.quantum_info import SuperOp\n",
    "rqc_superop = SuperOp(random_quantum_channel(2, 2))\n",
    "rqc_superop"
   ]
  },
  {
   "cell_type": "markdown",
   "id": "b73a9dce",
   "metadata": {},
   "source": [
    "### Choi "
   ]
  },
  {
   "cell_type": "code",
   "execution_count": 8,
   "id": "5cb1724d",
   "metadata": {},
   "outputs": [
    {
     "data": {
      "text/plain": [
       "Choi([[ 0.29232812-1.03017860e-18j, -0.04411638-5.52416986e-02j,\n",
       "        0.06807375+5.94847680e-02j,  0.00937887-6.18174517e-02j],\n",
       "      [-0.04411638+5.52416986e-02j,  0.70767188+1.09127593e-17j,\n",
       "       -0.06718603+2.37526207e-01j, -0.06807375-5.94847680e-02j],\n",
       "      [ 0.06807375-5.94847680e-02j, -0.06718603-2.37526207e-01j,\n",
       "        0.70568983-1.15906241e-17j, -0.26141011-2.99664069e-01j],\n",
       "      [ 0.00937887+6.18174517e-02j, -0.06807375+5.94847680e-02j,\n",
       "       -0.26141011+2.99664069e-01j,  0.29431017+7.18027144e-18j]],\n",
       "     input_dims=(2,), output_dims=(2,))"
      ]
     },
     "execution_count": 8,
     "metadata": {},
     "output_type": "execute_result"
    }
   ],
   "source": [
    "from qiskit.quantum_info import Choi\n",
    "\n",
    "rqc_choi = Choi(random_quantum_channel(2, 2))\n",
    "rqc_choi"
   ]
  },
  {
   "cell_type": "markdown",
   "id": "dfcdd0e1",
   "metadata": {},
   "source": [
    "### Chi"
   ]
  },
  {
   "cell_type": "code",
   "execution_count": 9,
   "id": "88c545fd",
   "metadata": {},
   "outputs": [
    {
     "data": {
      "text/plain": [
       "Chi([[ 0.45948097-6.93889390e-18j,  0.02525234-1.73527806e-01j,\n",
       "      -0.11609877+2.65623876e-02j, -0.11711756+1.23280302e-01j],\n",
       "     [ 0.02525234+1.73527806e-01j,  0.47353862-1.38777878e-17j,\n",
       "      -0.22282147+1.17117564e-01j,  0.10980373-1.16098768e-01j],\n",
       "     [-0.11609877-2.65623876e-02j, -0.22282147-1.17117564e-01j,\n",
       "       0.61001985+1.38777878e-17j,  0.19066813-2.52523440e-02j],\n",
       "     [-0.11711756-1.23280302e-01j,  0.10980373+1.16098768e-01j,\n",
       "       0.19066813+2.52523440e-02j,  0.45696056-6.93889390e-18j]],\n",
       "    input_dims=(2,), output_dims=(2,))"
      ]
     },
     "execution_count": 9,
     "metadata": {},
     "output_type": "execute_result"
    }
   ],
   "source": [
    "from qiskit.quantum_info import Chi\n",
    "rqc_chi = Chi(random_quantum_channel(2, 2))\n",
    "rqc_chi"
   ]
  },
  {
   "cell_type": "markdown",
   "id": "fe557d72",
   "metadata": {},
   "source": [
    "## Measures"
   ]
  },
  {
   "cell_type": "code",
   "execution_count": 10,
   "id": "1e31f7fc",
   "metadata": {},
   "outputs": [
    {
     "data": {
      "text/plain": [
       "0.5787893590846312"
      ]
     },
     "execution_count": 10,
     "metadata": {},
     "output_type": "execute_result"
    }
   ],
   "source": [
    "from qiskit.quantum_info import average_gate_fidelity\n",
    "average_gate_fidelity(random_quantum_channel(2, 2))"
   ]
  },
  {
   "cell_type": "code",
   "execution_count": 11,
   "id": "c19ce54b",
   "metadata": {},
   "outputs": [
    {
     "data": {
      "text/plain": [
       "0.6509548538932426"
      ]
     },
     "execution_count": 11,
     "metadata": {},
     "output_type": "execute_result"
    }
   ],
   "source": [
    "from qiskit.quantum_info import process_fidelity\n",
    "process_fidelity(random_quantum_channel(2, 2), random_quantum_channel(2, 2))"
   ]
  },
  {
   "cell_type": "code",
   "execution_count": 12,
   "id": "27913856",
   "metadata": {},
   "outputs": [
    {
     "data": {
      "text/plain": [
       "0.5403282197105239"
      ]
     },
     "execution_count": 12,
     "metadata": {},
     "output_type": "execute_result"
    }
   ],
   "source": [
    "from qiskit.quantum_info import gate_error\n",
    "gate_error(random_quantum_channel(2, 2))"
   ]
  },
  {
   "cell_type": "code",
   "execution_count": 13,
   "id": "a3ae5f49",
   "metadata": {},
   "outputs": [
    {
     "name": "stdout",
     "output_type": "stream",
     "text": [
      "QuantumError on 1 qubits. Noise circuits:\n",
      "  P(0) = 0.01, Circuit = \n",
      "   ┌───┐\n",
      "q: ┤ X ├\n",
      "   └───┘\n",
      "  P(1) = 0.01, Circuit = \n",
      "   ┌───┐\n",
      "q: ┤ Y ├\n",
      "   └───┘\n",
      "  P(2) = 0.01, Circuit = \n",
      "   ┌───┐\n",
      "q: ┤ Z ├\n",
      "   └───┘\n",
      "  P(3) = 0.97, Circuit = \n",
      "   ┌───┐\n",
      "q: ┤ I ├\n",
      "   └───┘\n",
      "diamond distance: 0.06000010519101877 with noise rate 0.03\n"
     ]
    }
   ],
   "source": [
    "from qiskit.quantum_info import diamond_norm, random_quantum_channel\n",
    "diamond_norm(random_quantum_channel(2, 2)-random_quantum_channel(2, 2))\n",
    "\n",
    "from qiskit.quantum_info import diamond_norm, random_quantum_channel\n",
    "from qiskit.quantum_info import Kraus, SuperOp, PTM\n",
    "\n",
    "# diamond_norm(random_quantum_channel(2, 2)-random_quantum_channel(2, 2))\n",
    "## single qubit depolarizing channel\n",
    "from qiskit_aer.noise import (pauli_error)\n",
    "# error = depolarizing_error(0.05, 1)\n",
    "# error\n",
    "p_error = 0.03\n",
    "ic = pauli_error([('I', 1)])\n",
    "dep_err = pauli_error([('X', p_error/3), ('Y', p_error/3), ('Z', p_error/3), ('I', 1 - p_error)])\n",
    "print(dep_err)\n",
    "dep_ptm = PTM(dep_err)\n",
    "dep_ptm\n",
    "print(f'diamond distance: {diamond_norm(dep_ptm - ic)} with noise rate {p_error}')"
   ]
  },
  {
   "cell_type": "markdown",
   "id": "e10f3644",
   "metadata": {},
   "source": [
    "## Measurement"
   ]
  },
  {
   "cell_type": "markdown",
   "id": "4aaa76ef",
   "metadata": {},
   "source": [
    "### POVM"
   ]
  },
  {
   "cell_type": "markdown",
   "id": "77a69140",
   "metadata": {},
   "source": [
    "### Kraus"
   ]
  }
 ],
 "metadata": {
  "kernelspec": {
   "display_name": "Python 3.8.8 ('base')",
   "language": "python",
   "name": "python3"
  },
  "language_info": {
   "codemirror_mode": {
    "name": "ipython",
    "version": 3
   },
   "file_extension": ".py",
   "mimetype": "text/x-python",
   "name": "python",
   "nbconvert_exporter": "python",
   "pygments_lexer": "ipython3",
   "version": "3.10.14"
  },
  "vscode": {
   "interpreter": {
    "hash": "4e8ef2f9fcac0817bca9a7ca376f64f20b4df5ea3bf7af756a50bda7d3557ea6"
   }
  }
 },
 "nbformat": 4,
 "nbformat_minor": 5
}