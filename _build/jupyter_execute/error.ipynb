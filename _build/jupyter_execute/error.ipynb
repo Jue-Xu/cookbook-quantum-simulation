{
 "cells": [
  {
   "cell_type": "markdown",
   "id": "8b24f5d3",
   "metadata": {},
   "source": [
    "# Noise and Error\n",
    "\n",
    "- Qiskit tutorial: https://youtu.be/w--HZ4QXugA"
   ]
  },
  {
   "cell_type": "markdown",
   "id": "118e6f33",
   "metadata": {},
   "source": [
    "- Incoherent error: loss of quantum information in the form of superposition and entanglement \n",
    "- coherent error in gate: incorrect Hamiltonian evolution\n",
    "- state preparation and readout (SPAM) errors"
   ]
  },
  {
   "cell_type": "code",
   "execution_count": 35,
   "id": "5482b331",
   "metadata": {},
   "outputs": [],
   "source": [
    "from qiskit import QuantumCircuit\n",
    "from qiskit_aer import AerSimulator\n",
    "from qiskit.quantum_info import Kraus, SuperOp, random_quantum_channel, PTM, Choi, Chi\n",
    "from qiskit.visualization import plot_histogram\n",
    "from qiskit.transpiler.preset_passmanagers import generate_preset_pass_manager\n",
    "\n",
    "# Import from Qiskit Aer noise module\n",
    "from qiskit_aer.noise import (\n",
    "    NoiseModel,\n",
    "    QuantumError,\n",
    "    ReadoutError,\n",
    "    depolarizing_error,\n",
    "    pauli_error,\n",
    "    thermal_relaxation_error,\n",
    ")"
   ]
  },
  {
   "cell_type": "markdown",
   "id": "ddc7b1fd",
   "metadata": {},
   "source": [
    "## Representation"
   ]
  },
  {
   "cell_type": "markdown",
   "id": "398ba931",
   "metadata": {},
   "source": [
    "### Pauli Transfer Matrix (PTM) \n",
    "https://docs.quantum.ibm.com/api/qiskit/qiskit.quantum_info.PTM\n",
    "\n",
    "Pauli Transfer Matrix (PTM) representation of a Quantum Channel.\n"
   ]
  },
  {
   "cell_type": "code",
   "execution_count": 96,
   "id": "9eadfea1",
   "metadata": {},
   "outputs": [
    {
     "name": "stdout",
     "output_type": "stream",
     "text": [
      "num_qubits:  1\n"
     ]
    },
    {
     "data": {
      "text/plain": [
       "PTM([[ 1.00000000e+00-9.52787305e-18j, -2.08166817e-17+0.00000000e+00j,\n",
       "       2.77555756e-17+0.00000000e+00j, -3.33066907e-16-6.88837700e-18j],\n",
       "     [-9.09489194e-02+0.00000000e+00j, -3.72195758e-01+0.00000000e+00j,\n",
       "       2.01356134e-02+0.00000000e+00j, -1.88193128e-01+0.00000000e+00j],\n",
       "     [ 1.07371749e-01+0.00000000e+00j,  3.69139869e-01+0.00000000e+00j,\n",
       "      -1.20645755e-01+0.00000000e+00j, -4.81331497e-01+0.00000000e+00j],\n",
       "     [-1.56748013e-01+8.54415943e-18j,  1.14009043e-01+0.00000000e+00j,\n",
       "      -4.85784633e-01+0.00000000e+00j, -1.72685021e-01+4.62303219e-19j]],\n",
       "    input_dims=(2,), output_dims=(2,))"
      ]
     },
     "execution_count": 96,
     "metadata": {},
     "output_type": "execute_result"
    }
   ],
   "source": [
    "rqc = PTM(random_quantum_channel(2, 2))\n",
    "print('num_qubits: ', rqc.num_qubits)\n",
    "rqc"
   ]
  },
  {
   "cell_type": "code",
   "execution_count": 60,
   "id": "d5e0cce4",
   "metadata": {},
   "outputs": [
    {
     "data": {
      "text/plain": [
       "PTM([[ 1.00000000e+00-2.40259894e-18j, -3.65286159e-17+1.06400890e-17j,\n",
       "      -3.25381917e-17-3.48337848e-19j,  8.10475729e-17-2.95275781e-18j],\n",
       "     [-5.03863959e-01-3.97212202e-18j,  8.72077238e-02+7.41407448e-18j,\n",
       "      -4.36095725e-02-9.82187287e-18j, -2.73736239e-02+4.42821287e-18j],\n",
       "     [ 3.66501244e-01+1.11459993e-17j, -5.33738689e-02-5.89698216e-18j,\n",
       "       8.10998407e-02-1.25503009e-17j, -9.32187871e-02+2.08189613e-18j],\n",
       "     [-2.18558871e-01-7.45593673e-18j,  5.86923694e-02-9.37442687e-18j,\n",
       "       2.00888015e-01-1.19893761e-17j, -7.11955275e-03-7.38513938e-19j]],\n",
       "    input_dims=(2,), output_dims=(2,))"
      ]
     },
     "execution_count": 60,
     "metadata": {},
     "output_type": "execute_result"
    }
   ],
   "source": [
    "rqc.compose(rqc)"
   ]
  },
  {
   "cell_type": "code",
   "execution_count": 56,
   "id": "a656e232",
   "metadata": {},
   "outputs": [
    {
     "data": {
      "text/plain": [
       "True"
      ]
     },
     "execution_count": 56,
     "metadata": {},
     "output_type": "execute_result"
    }
   ],
   "source": [
    "rqc.power(4)\n",
    "rqc.adjoint()\n",
    "rqc.is_unitary()\n",
    "rqc.is_cptp() # cp, tp, unitary"
   ]
  },
  {
   "cell_type": "markdown",
   "id": "f2d144cc",
   "metadata": {},
   "source": [
    "### Kraus"
   ]
  },
  {
   "cell_type": "code",
   "execution_count": 132,
   "id": "a8692063",
   "metadata": {},
   "outputs": [
    {
     "data": {
      "text/plain": [
       "Kraus([[[ 0.40797192-0.21907435j, -0.04302789-0.46760563j],\n",
       "        [-0.02762658-0.30734793j, -0.02968974+0.05646335j]],\n",
       "\n",
       "       [[-0.31594324-0.24582982j,  0.22465833-0.25842112j],\n",
       "        [-0.29698492+0.15016866j,  0.33448024-0.03782379j]],\n",
       "\n",
       "       [[ 0.29609313-0.1089395j ,  0.17119268-0.49213072j],\n",
       "        [-0.19383795-0.15392175j,  0.30024441-0.14315255j]],\n",
       "\n",
       "       [[ 0.15164906-0.06327016j,  0.22433035+0.00823283j],\n",
       "        [ 0.47619079-0.06909437j, -0.07334134+0.32703776j]]],\n",
       "      input_dims=(2,), output_dims=(2,))"
      ]
     },
     "execution_count": 132,
     "metadata": {},
     "output_type": "execute_result"
    }
   ],
   "source": [
    "from qiskit.quantum_info import Kraus\n",
    "rqc_kraus = Kraus(random_quantum_channel(2, 2))\n",
    "rqc_kraus"
   ]
  },
  {
   "cell_type": "markdown",
   "id": "a299aec9",
   "metadata": {},
   "source": [
    "## Noise channel"
   ]
  },
  {
   "cell_type": "markdown",
   "id": "71d0e6a6",
   "metadata": {},
   "source": [
    "https://docs.quantum.ibm.com/guides/build-noise-models#build-noise-models"
   ]
  },
  {
   "cell_type": "code",
   "execution_count": 36,
   "id": "7e01d90f",
   "metadata": {},
   "outputs": [
    {
     "name": "stdout",
     "output_type": "stream",
     "text": [
      "QuantumError on 1 qubits. Noise circuits:\n",
      "  P(0) = 0.05, Circuit = \n",
      "   ┌───┐\n",
      "q: ┤ X ├\n",
      "   └───┘\n",
      "  P(1) = 0.95, Circuit = \n",
      "   ┌───┐\n",
      "q: ┤ I ├\n",
      "   └───┘\n",
      "QuantumError on 1 qubits. Noise circuits:\n",
      "  P(0) = 0.05, Circuit = \n",
      "   ┌───┐\n",
      "q: ┤ Z ├\n",
      "   └───┘\n",
      "  P(1) = 0.95, Circuit = \n",
      "   ┌───┐\n",
      "q: ┤ I ├\n",
      "   └───┘\n"
     ]
    }
   ],
   "source": [
    "# Construct a 1-qubit bit-flip and phase-flip errors\n",
    "p_error = 0.05\n",
    "bit_flip = pauli_error([('X', p_error), ('I', 1 - p_error)])\n",
    "phase_flip = pauli_error([('Z', p_error), ('I', 1 - p_error)])\n",
    "print(bit_flip)\n",
    "print(phase_flip)"
   ]
  },
  {
   "cell_type": "code",
   "execution_count": 37,
   "id": "7c6e6e01",
   "metadata": {},
   "outputs": [
    {
     "name": "stdout",
     "output_type": "stream",
     "text": [
      "QuantumError on 1 qubits. Noise circuits:\n",
      "  P(0) = 0.0025000000000000005, Circuit = \n",
      "   ┌───┐┌───┐\n",
      "q: ┤ X ├┤ Z ├\n",
      "   └───┘└───┘\n",
      "  P(1) = 0.0475, Circuit = \n",
      "   ┌───┐┌───┐\n",
      "q: ┤ X ├┤ I ├\n",
      "   └───┘└───┘\n",
      "  P(2) = 0.0475, Circuit = \n",
      "   ┌───┐┌───┐\n",
      "q: ┤ I ├┤ Z ├\n",
      "   └───┘└───┘\n",
      "  P(3) = 0.9025, Circuit = \n",
      "   ┌───┐┌───┐\n",
      "q: ┤ I ├┤ I ├\n",
      "   └───┘└───┘\n"
     ]
    }
   ],
   "source": [
    "# Compose two bit-flip and phase-flip errors\n",
    "bitphase_flip = bit_flip.compose(phase_flip)\n",
    "print(bitphase_flip)"
   ]
  },
  {
   "cell_type": "code",
   "execution_count": 38,
   "id": "befa5ca0",
   "metadata": {},
   "outputs": [
    {
     "name": "stdout",
     "output_type": "stream",
     "text": [
      "QuantumError on 2 qubits. Noise circuits:\n",
      "  P(0) = 0.0025000000000000005, Circuit = \n",
      "     ┌───┐\n",
      "q_0: ┤ X ├\n",
      "     ├───┤\n",
      "q_1: ┤ Z ├\n",
      "     └───┘\n",
      "  P(1) = 0.0475, Circuit = \n",
      "     ┌───┐\n",
      "q_0: ┤ I ├\n",
      "     ├───┤\n",
      "q_1: ┤ Z ├\n",
      "     └───┘\n",
      "  P(2) = 0.0475, Circuit = \n",
      "     ┌───┐\n",
      "q_0: ┤ X ├\n",
      "     ├───┤\n",
      "q_1: ┤ I ├\n",
      "     └───┘\n",
      "  P(3) = 0.9025, Circuit = \n",
      "     ┌───┐\n",
      "q_0: ┤ I ├\n",
      "     ├───┤\n",
      "q_1: ┤ I ├\n",
      "     └───┘\n"
     ]
    }
   ],
   "source": [
    "# Tensor product two bit-flip and phase-flip errors with\n",
    "# bit-flip on qubit-0, phase-flip on qubit-1\n",
    "error2 = phase_flip.tensor(bit_flip)\n",
    "print(error2)"
   ]
  },
  {
   "cell_type": "markdown",
   "id": "7e2d98e7",
   "metadata": {},
   "source": [
    "#### Converting to and from QuantumChannel operators"
   ]
  },
  {
   "cell_type": "code",
   "execution_count": 39,
   "id": "3fc5bd41",
   "metadata": {},
   "outputs": [
    {
     "name": "stdout",
     "output_type": "stream",
     "text": [
      "Kraus([[[ 9.74679434e-01+0.j,  0.00000000e+00+0.j],\n",
      "        [ 0.00000000e+00+0.j,  9.74679434e-01+0.j]],\n",
      "\n",
      "       [[ 0.00000000e+00+0.j,  2.23606798e-01+0.j],\n",
      "        [ 2.23606798e-01+0.j, -4.96506831e-17+0.j]]],\n",
      "      input_dims=(2,), output_dims=(2,))\n"
     ]
    }
   ],
   "source": [
    "# Convert to Kraus operator\n",
    "bit_flip_kraus = Kraus(bit_flip)\n",
    "print(bit_flip_kraus)"
   ]
  },
  {
   "cell_type": "code",
   "execution_count": 40,
   "id": "a39bbb13",
   "metadata": {},
   "outputs": [
    {
     "name": "stdout",
     "output_type": "stream",
     "text": [
      "SuperOp([[1. +0.j, 0. +0.j, 0. +0.j, 0. +0.j],\n",
      "         [0. +0.j, 0.9+0.j, 0. +0.j, 0. +0.j],\n",
      "         [0. +0.j, 0. +0.j, 0.9+0.j, 0. +0.j],\n",
      "         [0. +0.j, 0. +0.j, 0. +0.j, 1. +0.j]],\n",
      "        input_dims=(2,), output_dims=(2,))\n"
     ]
    }
   ],
   "source": [
    "# Convert to Superoperator\n",
    "phase_flip_sop = SuperOp(phase_flip)\n",
    "print(phase_flip_sop)"
   ]
  },
  {
   "cell_type": "code",
   "execution_count": 41,
   "id": "3386eb9e",
   "metadata": {},
   "outputs": [
    {
     "name": "stdout",
     "output_type": "stream",
     "text": [
      "QuantumError on 1 qubits. Noise circuits:\n",
      "  P(0) = 1.0, Circuit = \n",
      "   ┌───────┐\n",
      "q: ┤ kraus ├\n",
      "   └───────┘\n"
     ]
    },
    {
     "data": {
      "text/plain": [
       "True"
      ]
     },
     "execution_count": 41,
     "metadata": {},
     "output_type": "execute_result"
    }
   ],
   "source": [
    "# Convert back to a quantum error\n",
    "print(QuantumError(bit_flip_kraus))\n",
    " \n",
    "# Check conversion is equivalent to original error\n",
    "QuantumError(bit_flip_kraus) == bit_flip"
   ]
  },
  {
   "cell_type": "markdown",
   "id": "771a4028",
   "metadata": {},
   "source": [
    "### Readout error"
   ]
  },
  {
   "cell_type": "code",
   "execution_count": 3,
   "id": "d8962964",
   "metadata": {},
   "outputs": [
    {
     "data": {
      "text/plain": [
       "ReadoutError([[0.95 0.05]\n",
       " [0.1  0.9 ]])"
      ]
     },
     "execution_count": 3,
     "metadata": {},
     "output_type": "execute_result"
    }
   ],
   "source": [
    "# Measurement misassignment probabilities\n",
    "p0given1 = 0.1\n",
    "p1given0 = 0.05\n",
    " \n",
    "ReadoutError([[1 - p1given0, p1given0], [p0given1, 1 - p0given1]])"
   ]
  },
  {
   "cell_type": "markdown",
   "id": "c59262fa",
   "metadata": {},
   "source": [
    "### Examples"
   ]
  },
  {
   "cell_type": "code",
   "execution_count": 8,
   "id": "36ce10f5",
   "metadata": {},
   "outputs": [
    {
     "name": "stdout",
     "output_type": "stream",
     "text": [
      "        ┌───┐                ░ ┌─┐         \n",
      "   q_0: ┤ H ├──■─────────────░─┤M├─────────\n",
      "        └───┘┌─┴─┐           ░ └╥┘┌─┐      \n",
      "   q_1: ─────┤ X ├──■────────░──╫─┤M├──────\n",
      "             └───┘┌─┴─┐      ░  ║ └╥┘┌─┐   \n",
      "   q_2: ──────────┤ X ├──■───░──╫──╫─┤M├───\n",
      "                  └───┘┌─┴─┐ ░  ║  ║ └╥┘┌─┐\n",
      "   q_3: ───────────────┤ X ├─░──╫──╫──╫─┤M├\n",
      "                       └───┘ ░  ║  ║  ║ └╥┘\n",
      "meas: 4/════════════════════════╩══╩══╩══╩═\n",
      "                                0  1  2  3 \n"
     ]
    }
   ],
   "source": [
    "# System Specification\n",
    "n_qubits = 4\n",
    "circ = QuantumCircuit(n_qubits)\n",
    " \n",
    "# Test Circuit\n",
    "circ.h(0)\n",
    "for qubit in range(n_qubits - 1):\n",
    "    circ.cx(qubit, qubit + 1)\n",
    "circ.measure_all()\n",
    "print(circ)"
   ]
  },
  {
   "cell_type": "code",
   "execution_count": 30,
   "id": "1d357ee3",
   "metadata": {},
   "outputs": [
    {
     "data": {
      "image/png": "[encoded data removed]",
      "text/plain": [
       "<Figure size 700x500 with 1 Axes>"
      ]
     },
     "execution_count": 30,
     "metadata": {
      "image/png": {
       "height": 467,
       "width": 633
      }
     },
     "output_type": "execute_result"
    }
   ],
   "source": [
    "# Ideal simulator and execution\n",
    "sim_ideal = AerSimulator()\n",
    "result_ideal = sim_ideal.run(circ).result()\n",
    "plot_histogram(result_ideal.get_counts(0))"
   ]
  },
  {
   "cell_type": "markdown",
   "id": "9c28a9db",
   "metadata": {},
   "source": [
    "#### from qiskit_aer import AerSimulator"
   ]
  },
  {
   "cell_type": "code",
   "execution_count": 31,
   "id": "211fd0ba",
   "metadata": {},
   "outputs": [
    {
     "name": "stdout",
     "output_type": "stream",
     "text": [
      "NoiseModel:\n",
      "  Basis gates: ['cx', 'id', 'rz', 'sx', 'u1', 'u2', 'u3']\n",
      "  Instructions with noise: ['u1', 'u2', 'cx', 'u3', 'reset', 'measure']\n",
      "  All-qubits errors: ['reset', 'measure', 'u1', 'u2', 'u3', 'cx']\n"
     ]
    }
   ],
   "source": [
    "# Example error probabilities\n",
    "p_reset = 0.03\n",
    "p_meas = 0.1\n",
    "p_gate1 = 0.05\n",
    " \n",
    "# QuantumError objects\n",
    "error_reset = pauli_error([('X', p_reset), ('I', 1 - p_reset)])\n",
    "error_meas = pauli_error([('X',p_meas), ('I', 1 - p_meas)])\n",
    "error_gate1 = pauli_error([('X',p_gate1), ('I', 1 - p_gate1)])\n",
    "error_gate2 = error_gate1.tensor(error_gate1)\n",
    " \n",
    "# Add errors to noise model\n",
    "noise_bit_flip = NoiseModel()\n",
    "noise_bit_flip.add_all_qubit_quantum_error(error_reset, \"reset\")\n",
    "noise_bit_flip.add_all_qubit_quantum_error(error_meas, \"measure\")\n",
    "noise_bit_flip.add_all_qubit_quantum_error(error_gate1, [\"u1\", \"u2\", \"u3\"])\n",
    "noise_bit_flip.add_all_qubit_quantum_error(error_gate2, [\"cx\"])\n",
    " \n",
    "print(noise_bit_flip)"
   ]
  },
  {
   "cell_type": "code",
   "execution_count": 32,
   "id": "8103d7dc",
   "metadata": {},
   "outputs": [
    {
     "ename": "NameError",
     "evalue": "name 'generate_preset_pass_manager' is not defined",
     "output_type": "error",
     "traceback": [
      "\u001b[0;31m---------------------------------------------------------------------------\u001b[0m",
      "\u001b[0;31mNameError\u001b[0m                                 Traceback (most recent call last)",
      "Cell \u001b[0;32mIn[32], line 5\u001b[0m\n\u001b[1;32m      2\u001b[0m sim_noise \u001b[38;5;241m=\u001b[39m AerSimulator(noise_model\u001b[38;5;241m=\u001b[39mnoise_bit_flip)\n\u001b[1;32m      4\u001b[0m \u001b[38;5;66;03m# Transpile circuit for noisy basis gates\u001b[39;00m\n\u001b[0;32m----> 5\u001b[0m passmanager \u001b[38;5;241m=\u001b[39m \u001b[43mgenerate_preset_pass_manager\u001b[49m(optimization_level\u001b[38;5;241m=\u001b[39m\u001b[38;5;241m3\u001b[39m, backend\u001b[38;5;241m=\u001b[39msim_noise)\n\u001b[1;32m      6\u001b[0m circ_tnoise \u001b[38;5;241m=\u001b[39m passmanager\u001b[38;5;241m.\u001b[39mrun(circ)\n\u001b[1;32m      8\u001b[0m \u001b[38;5;66;03m# Run and get counts\u001b[39;00m\n",
      "\u001b[0;31mNameError\u001b[0m: name 'generate_preset_pass_manager' is not defined"
     ]
    }
   ],
   "source": [
    "# Create noisy simulator backend\n",
    "sim_noise = AerSimulator(noise_model=noise_bit_flip)\n",
    " \n",
    "# Transpile circuit for noisy basis gates\n",
    "passmanager = generate_preset_pass_manager(optimization_level=3, backend=sim_noise)\n",
    "circ_tnoise = passmanager.run(circ)\n",
    " \n",
    "# Run and get counts\n",
    "result_bit_flip = sim_noise.run(circ_tnoise).result()\n",
    "counts_bit_flip = result_bit_flip.get_counts(0)\n",
    " \n",
    "# Plot noisy output\n",
    "plot_histogram(counts_bit_flip)"
   ]
  }
 ],
 "metadata": {
  "kernelspec": {
   "display_name": "Python 3.8.8 ('base')",
   "language": "python",
   "name": "python3"
  },
  "language_info": {
   "codemirror_mode": {
    "name": "ipython",
    "version": 3
   },
   "file_extension": ".py",
   "mimetype": "text/x-python",
   "name": "python",
   "nbconvert_exporter": "python",
   "pygments_lexer": "ipython3",
   "version": "3.10.14"
  },
  "vscode": {
   "interpreter": {
    "hash": "4e8ef2f9fcac0817bca9a7ca376f64f20b4df5ea3bf7af756a50bda7d3557ea6"
   }
  }
 },
 "nbformat": 4,
 "nbformat_minor": 5
}