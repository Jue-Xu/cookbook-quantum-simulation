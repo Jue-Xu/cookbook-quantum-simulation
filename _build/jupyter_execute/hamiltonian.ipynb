{
 "cells": [
  {
   "cell_type": "markdown",
   "metadata": {},
   "source": [
    "# Gallery of toy models\n",
    "\n",
    "\n",
    "[An incomplete list of Quantum Simulatoin Experiments](https://almond-taurus-565.notion.site/Quantum-Simulation-Experiments-81d2c5e16d0a43af907204ec6eaf3043)"
   ]
  }
 ],
 "metadata": {
  "kernelspec": {
   "display_name": "base",
   "language": "python",
   "name": "python3"
  },
  "language_info": {
   "codemirror_mode": {
    "name": "ipython",
    "version": 3
   },
   "file_extension": ".py",
   "mimetype": "text/x-python",
   "name": "python",
   "nbconvert_exporter": "python",
   "pygments_lexer": "ipython3",
   "version": "3.10.14"
  }
 },
 "nbformat": 4,
 "nbformat_minor": 2
}