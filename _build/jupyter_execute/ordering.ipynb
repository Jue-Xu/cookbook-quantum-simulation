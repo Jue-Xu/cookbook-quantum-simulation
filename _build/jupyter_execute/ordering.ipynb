{
 "cells": [
  {
   "cell_type": "markdown",
   "id": "8b24f5d3",
   "metadata": {},
   "source": [
    "# Ordering"
   ]
  },
  {
   "cell_type": "markdown",
   "id": "ad7989ef",
   "metadata": {},
   "source": [
    "## Randomized product formula\n",
    "\n",
    "- [Faster quantum simulation by randomization](http://arxiv.org/abs/1805.08385)\n",
    "- [A random compiler for fast Hamiltonian simulation](http://arxiv.org/abs/1811.08017)\n",
    "- [High-Order Randomized Compiler for Hamiltonian Simulation](https://link.aps.org/doi/10.1103/PRXQuantum.5.020330)"
   ]
  },
  {
   "cell_type": "markdown",
   "id": "62f719a8",
   "metadata": {},
   "source": [
    "### QDrift"
   ]
  },
  {
   "cell_type": "markdown",
   "id": "242ee5a6",
   "metadata": {},
   "source": [
    "## Light-cone\n",
    "\n",
    "- [Observable-Driven Speed-ups in Quantum Simulations](http://arxiv.org/abs/2407.14497)"
   ]
  },
  {
   "cell_type": "markdown",
   "id": "da94646c",
   "metadata": {},
   "source": [
    "## VQA"
   ]
  },
  {
   "cell_type": "markdown",
   "id": "ca76cd8a",
   "metadata": {},
   "source": [
    "- https://www.youtube.com/watch?v=o_F7n9N3OrY"
   ]
  }
 ],
 "metadata": {
  "kernelspec": {
   "display_name": "Python 3.8.8 ('base')",
   "language": "python",
   "name": "python3"
  },
  "language_info": {
   "codemirror_mode": {
    "name": "ipython",
    "version": 3
   },
   "file_extension": ".py",
   "mimetype": "text/x-python",
   "name": "python",
   "nbconvert_exporter": "python",
   "pygments_lexer": "ipython3",
   "version": "3.10.14"
  },
  "vscode": {
   "interpreter": {
    "hash": "4e8ef2f9fcac0817bca9a7ca376f64f20b4df5ea3bf7af756a50bda7d3557ea6"
   }
  }
 },
 "nbformat": 4,
 "nbformat_minor": 5
}