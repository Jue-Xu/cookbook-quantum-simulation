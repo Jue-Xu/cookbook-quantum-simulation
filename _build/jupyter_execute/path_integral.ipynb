{
 "cells": [
  {
   "cell_type": "markdown",
   "id": "8b24f5d3",
   "metadata": {},
   "source": [
    "# Pauli path integral\n",
    "\n",
    "Main Reference:\n",
    "- [A polynomial-time classical algorithm for noisy quantum circuits](http://arxiv.org/abs/2407.12768)\n",
    "- [A Polynomial-Time Classical Algorithm for Noisy Random Circuit Sampling](https://arxiv.org/abs/2211.03999)\n",
    "\n",
    "\n",
    ".... todo"
   ]
  },
  {
   "cell_type": "code",
   "execution_count": null,
   "id": "be9b368c",
   "metadata": {},
   "outputs": [],
   "source": []
  }
 ],
 "metadata": {
  "kernelspec": {
   "display_name": "Python 3.8.8 ('base')",
   "language": "python",
   "name": "python3"
  },
  "language_info": {
   "codemirror_mode": {
    "name": "ipython",
    "version": 3
   },
   "file_extension": ".py",
   "mimetype": "text/x-python",
   "name": "python",
   "nbconvert_exporter": "python",
   "pygments_lexer": "ipython3",
   "version": "3.10.14"
  },
  "vscode": {
   "interpreter": {
    "hash": "4e8ef2f9fcac0817bca9a7ca376f64f20b4df5ea3bf7af756a50bda7d3557ea6"
   }
  }
 },
 "nbformat": 4,
 "nbformat_minor": 5
}