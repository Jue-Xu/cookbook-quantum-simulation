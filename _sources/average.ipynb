{
 "cells": [
  {
   "cell_type": "markdown",
   "id": "8b24f5d3",
   "metadata": {},
   "source": [
    "# Average error\n",
    "\n",
    "- [Hamiltonian simulation with random inputs\n",
    "](https://arxiv.org/abs/2111.04773) [[PRL](https://journals.aps.org/prl/abstract/10.1103/PhysRevLett.129.270502)]"
   ]
  },
  {
   "cell_type": "code",
   "execution_count": 1,
   "id": "84ac0b32",
   "metadata": {},
   "outputs": [
    {
     "data": {
      "text/plain": [
       "SparsePauliOp(['IIXX', 'IXXI', 'XXII', 'IIYY', 'IYYI', 'YYII', 'IIZZ', 'IZZI', 'ZZII', 'IIIX', 'IIXI', 'IXII', 'XIII'],\n",
       "              coeffs=[1. +0.j, 1. +0.j, 1. +0.j, 1. +0.j, 1. +0.j, 1. +0.j, 1. +0.j, 1. +0.j,\n",
       " 1. +0.j, 0.2+0.j, 0.2+0.j, 0.2+0.j, 0.2+0.j])"
      ]
     },
     "execution_count": 1,
     "metadata": {},
     "output_type": "execute_result"
    }
   ],
   "source": [
    "import quantum_simulation_recipe as qsr\n",
    "from quantum_simulation_recipe import spin_ham\n",
    "\n",
    "H = spin_ham.Nearest_Neighbour_1d(4)\n",
    "H.ham"
   ]
  },
  {
   "cell_type": "markdown",
   "id": "90018921",
   "metadata": {},
   "source": [
    "## State: Worst-case VS average-case Bound"
   ]
  },
  {
   "cell_type": "markdown",
   "id": "fa5ce860",
   "metadata": {},
   "source": [
    "### Worst initial state for Trotter"
   ]
  },
  {
   "cell_type": "code",
   "execution_count": 46,
   "id": "a583ef94",
   "metadata": {},
   "outputs": [
    {
     "name": "stdout",
     "output_type": "stream",
     "text": [
      "E of MFI is normal:  False\n",
      "E of TFI is normal:  True\n",
      "E of TFI is Hermitian:  False\n",
      "E of TFI is anti-Hermitian:  False\n",
      "E of TFI is unitary:  False\n"
     ]
    }
   ],
   "source": [
    "from qiskit.quantum_info import random_unitary, random_hermitian\n",
    "from quantum_simulation_recipe.spin import Nearest_Neighbour_1d\n",
    "from quantum_simulation_recipe.trotter import pf, expH\n",
    "import numpy as np\n",
    "\n",
    "def error_operator(H_list, t=2.453, r=1):\n",
    "    appro_U, exact_U = pf(H_list, t, r, return_exact=True)\n",
    "    return exact_U - appro_U\n",
    "\n",
    "MFI = Nearest_Neighbour_1d(2, hx=0.8090, hy=0.9045, Jx=1, pbc=False)\n",
    "TFI = Nearest_Neighbour_1d(2, Jz=2, hx=1, pbc=False)\n",
    "TFI_H_list = [h.to_matrix() for h in TFI.ham_par]\n",
    "# H_list = [h.to_matrix() for h in TFI.ham_xyz]\n",
    "MFI_H_list = [h.to_matrix() for h in MFI.ham_par]\n",
    "RND_H_list = [random_hermitian(4), random_hermitian(4)]\n",
    "TFI_E = error_operator(TFI_H_list)\n",
    "MFI_E = error_operator(MFI_H_list)\n",
    "RND_E = error_operator(RND_H_list)\n",
    "# D = expH(H1+H2, 1) - expH(H1, 1)@expH(H2, 1)\n",
    "print('E of MFI is normal: ', np.allclose(MFI_E@MFI_E.conj().T, MFI_E.conj().T@MFI_E))\n",
    "print('E of TFI is normal: ', np.allclose(TFI_E@TFI_E.conj().T, TFI_E.conj().T@TFI_E))\n",
    "print('E of TFI is Hermitian: ', np.allclose(TFI_E, TFI_E.conj().T))\n",
    "print('E of TFI is anti-Hermitian: ', np.allclose(TFI_E, -TFI_E.conj().T))\n",
    "print('E of TFI is unitary: ', np.allclose(np.dot(TFI_E, TFI_E.conj().T), np.eye(TFI_E.shape[0])))"
   ]
  },
  {
   "cell_type": "code",
   "execution_count": 107,
   "id": "2620cf3a",
   "metadata": {},
   "outputs": [
    {
     "name": "stdout",
     "output_type": "stream",
     "text": [
      "DD* is Hermitian (trivial):  True\n",
      "eigenvals of D (by eigh):  [-0.79155 -0.37126  0.02682  1.54871]\n",
      "eigenvals of D*D (by eigh): \n",
      " [0.01403 0.11221 2.4417  2.85321]\n",
      "eigenvals of D*D (by eig, not sorted): \n",
      " [2.85321-0.j 2.4417 -0.j 0.11221+0.j 0.01403-0.j]\n"
     ]
    }
   ],
   "source": [
    "D = MFI_E\n",
    "# D = TFI_E\n",
    "# D = RND_E\n",
    "print('DD* is Hermitian (trivial): ', np.allclose(D@D.conj().T, (D@D.conj().T).conj().T))\n",
    "print('eigenvals of D (by eigh): ', np.linalg.eigh(D)[0])\n",
    "print('eigenvals of D*D (by eigh): \\n', np.linalg.eigh(D@D.conj().T)[0])\n",
    "# print(np.linalg.eigh(D.conj().T@D)[0])\n",
    "print('eigenvals of D*D (by eig, not sorted): \\n', np.linalg.eig(D@D.conj().T)[0])"
   ]
  },
  {
   "cell_type": "code",
   "execution_count": 108,
   "id": "b7d70b98",
   "metadata": {},
   "outputs": [
    {
     "name": "stdout",
     "output_type": "stream",
     "text": [
      "D is normal:  False\n",
      "---------eigen of D D*\n",
      "[0.01403 0.11221 2.4417  2.85321]\n",
      "---------eigen of D* D\n",
      "[0.01403 0.11221 2.4417  2.85321]\n",
      "DD*!=D*D, but they have the same eigenvalues (similar??).\n",
      "(0.5497812019484642+0.050036165227177194j)\n"
     ]
    }
   ],
   "source": [
    "print('D is normal: ', np.allclose(D@D.conj().T, D.conj().T@D))\n",
    "# print(D@D.conj().T-D.conj().T@D)\n",
    "print('---------eigen of D D*')\n",
    "print(np.linalg.eigh(D @ D.conj().T)[0])\n",
    "# print(np.linalg.eigh(D @ D.conj().T)[1])\n",
    "print('---------eigen of D* D')\n",
    "print(np.linalg.eigh(D.conj().T @ D)[0])\n",
    "# print(np.linalg.eigh(D.conj().T @ D)[1])\n",
    "print('DD*!=D*D, but they have the same eigenvalues (similar??).')\n",
    "\n",
    "print(np.dot(np.linalg.eigh(D.conj().T @ D)[1][:, 0], np.linalg.eigh(D @ D.conj().T)[1][:, 0].conj().T))"
   ]
  },
  {
   "cell_type": "markdown",
   "id": "0c6fe28f",
   "metadata": {},
   "source": [
    "### Worst-case: singular value"
   ]
  },
  {
   "cell_type": "code",
   "execution_count": 109,
   "id": "d7dc28ef",
   "metadata": {},
   "outputs": [
    {
     "name": "stdout",
     "output_type": "stream",
     "text": [
      "spetral norm:  1.6891439100095893\n",
      "S:  [1.68914 1.56259 0.33498 0.11845]\n",
      "square of singular values: \n",
      " [0.014029287629003814, 0.11220908840624161, 2.441700759298198, 2.8532071487224835]\n",
      "U: \n",
      " [[-0.20572+0.57631j -0.4436 +0.04446j -0.40134-0.40178j  0.31204+0.08321j]\n",
      " [ 0.05161-0.00535j -0.09772-0.78246j -0.3361 +0.47573j  0.18116+0.05845j]\n",
      " [ 0.09959-0.40388j -0.05016+0.27609j -0.06563+0.08953j  0.55808+0.65149j]\n",
      " [ 0.05193+0.66867j  0.31645-0.02386j  0.4988 +0.27766j  0.16947+0.308j  ]]\n",
      "V: \n",
      " [[-0.67068+0.j       0.39496+0.13057j  0.00134+0.05187j -0.55865-0.24973j]\n",
      " [-0.31735+0.j       0.07078-0.27154j  0.03861+0.78759j  0.44569-0.01098j]\n",
      " [-0.57087+0.j       0.0138 -0.11015j  0.06228-0.57914j  0.54609+0.15585j]\n",
      " [-0.35154+0.j      -0.83982+0.17489j -0.13854+0.13054j -0.22333+0.23328j]]\n",
      "init_st_svd:  [-0.67068-0.j       0.39496-0.13057j  0.00134-0.05187j -0.55865+0.24973j]\n"
     ]
    }
   ],
   "source": [
    "np.set_printoptions(precision=5, suppress=True)\n",
    "print('spetral norm: ', np.linalg.norm(D, ord=2))\n",
    "U, S, V = np.linalg.svd(D)\n",
    "print(\"S: \", S)   \n",
    "print('square of singular values: \\n', sorted(S**2))\n",
    "print(\"U: \\n\", U)\n",
    "print(\"V: \\n\", V)\n",
    "# init_st = V[0].T\n",
    "init_st_svd = V[0].conj().T\n",
    "print(\"init_st_svd: \", init_st_svd)"
   ]
  },
  {
   "cell_type": "markdown",
   "id": "9a0f0db2",
   "metadata": {},
   "source": [
    "the worst-input is the U, V or eigenstate of largest singular value?\n",
    "- If E is normal e.g. TFI, they are the same\n",
    "- Otherwise e.g. MFI, the worst input (largest singular value) is V[0].conj().T"
   ]
  },
  {
   "cell_type": "code",
   "execution_count": 113,
   "id": "cf983d96",
   "metadata": {},
   "outputs": [
    {
     "name": "stdout",
     "output_type": "stream",
     "text": [
      "eigen values:  [0.01403 0.11221 2.4417  2.85321]\n",
      "squre of singualr values:  [0.014029287629003814, 0.11220908840624161, 2.441700759298198, 2.8532071487224835]\n",
      "[[-0.32294+0.j       0.56789+0.j       0.44582-0.j      -0.61192+0.j     ]\n",
      " [-0.1901 -0.0098j  -0.09905-0.574j    0.0192 +0.7883j   0.02239+0.0468j ]\n",
      " [-0.7071 -0.4857j  -0.01695-0.10971j  0.07744-0.26971j  0.41386-0.04199j]\n",
      " [-0.2431 -0.25393j -0.54895+0.15667j -0.31725-0.00782j -0.61229+0.27371j]]\n",
      "[-0.36482+0.50027j  0.66319-0.04171j  0.00876-0.58929j  0.05976+1.13047j]\n",
      "eigenvector with largest eigval: \n",
      " [-0.61192-0.j       0.02239+0.0468j   0.41386-0.04199j -0.61229+0.27371j]\n",
      "1.5664627453249478\n",
      "achieve spectral norm (square root of largest eigenval):  1.689143910009589\n",
      "1.5873420245042686\n",
      "1.350723692946984\n"
     ]
    }
   ],
   "source": [
    "print('eigen values: ', np.linalg.eigh(D @ D.conj().T)[0])\n",
    "print(\"squre of singualr values: \", sorted(S**2))   \n",
    "print(np.linalg.eigh(D @ D.conj().T)[1])\n",
    "print(D@np.linalg.eigh(D @ D.conj().T)[1][:,-1])\n",
    "print('eigenvector with largest eigval: \\n', np.divide(D @ D.conj().T@np.linalg.eigh(D @ D.conj().T)[1][:,-1], np.linalg.eigh(D @ D.conj().T)[0][-1]))\n",
    "# print(np.linalg.norm(np.linalg.eigh(D @ D.conj().T)[1][:,-1])) verify normalized vector\n",
    "print(np.linalg.norm(D@np.linalg.eigh(D @ D.conj().T)[1][:,-1]))  # .conj().T\n",
    "print('achieve spectral norm (square root of largest eigenval): ', np.linalg.norm(D@init_st_svd))\n",
    "print(np.linalg.norm(D@V[0]))\n",
    "print(np.linalg.norm(D@U[:, 0].conj().T))"
   ]
  },
  {
   "cell_type": "markdown",
   "id": "09c293e8",
   "metadata": {},
   "source": [
    "## Observable (quantum mean value)"
   ]
  }
 ],
 "metadata": {
  "kernelspec": {
   "display_name": "base",
   "language": "python",
   "name": "python3"
  },
  "language_info": {
   "codemirror_mode": {
    "name": "ipython",
    "version": 3
   },
   "file_extension": ".py",
   "mimetype": "text/x-python",
   "name": "python",
   "nbconvert_exporter": "python",
   "pygments_lexer": "ipython3",
   "version": "3.10.14"
  }
 },
 "nbformat": 4,
 "nbformat_minor": 5
}
