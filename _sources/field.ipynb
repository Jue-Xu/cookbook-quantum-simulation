{
 "cells": [
  {
   "cell_type": "markdown",
   "id": "8b24f5d3",
   "metadata": {},
   "source": [
    "# Gauge Field"
   ]
  },
  {
   "cell_type": "markdown",
   "id": "99a022e4",
   "metadata": {},
   "source": [
    "## 1+1 (QED) Lattice field\n",
    "\n",
    "[Quantum localization bounds Trotter errors in digital quantum simulation](http://arxiv.org/abs/1806.11123) appendix\n",
    "\n",
    "The lattice Schwinger model of 1+1D quantum electrodynamics (QED) can be described by the Hamiltonian (with spin system) $H_{sm}=H_{\\pm}+H_Z$ where\n",
    "\n",
    "$$\n",
    "H_{\\pm} = \\sum_{l=1}^{n-1} H_{\\pm}^l, \\; H_{\\pm}^l = \\frac{w}{2} [X_l X_{l+1}+ Y_l Y_{l+1}]\n",
    "$$\n",
    "\n",
    "and \n",
    "\n",
    "$$\n",
    "H_Z = \\frac{m}{2} \\sum_{l=1}^n (-1)^l Z_l + J \\sum_{l=1}^n L_l^2, \\; L_n = \\frac{1}{2} [Z_l + (-1)^l]\n",
    "$$\n",
    "\n",
    "Here, $m$ is the rest mass of the fermionic particles and anti-particles, and $w$ describes their kinetic energy. The term proportional to $J$ is the energy of the U(1) gauge fields."
   ]
  },
  {
   "cell_type": "code",
   "execution_count": null,
   "id": "12945074",
   "metadata": {},
   "outputs": [],
   "source": []
  },
  {
   "cell_type": "markdown",
   "id": "4b3177ac",
   "metadata": {},
   "source": [
    "[Real-time dynamics of lattice gauge theories with a few-qubit quantum computer](http://arxiv.org/abs/1605.04570)\n",
    "\n",
    "The vacuum decay continuously produces entanglement, as particles and antiparticles are constantly generated and propagate away from each other, thus correlating distant parts of the system. Entanglement plays a crucial role in the characterization of dynamical processes in quantum many-body systems, and its analysis permits us to quantify the quantum character of the generated correlations. \n"
   ]
  },
  {
   "cell_type": "markdown",
   "id": "f60190e1",
   "metadata": {},
   "source": [
    "## QCD \n",
    "todo"
   ]
  }
 ],
 "metadata": {
  "kernelspec": {
   "display_name": "Python 3.8.8 ('base')",
   "language": "python",
   "name": "python3"
  },
  "language_info": {
   "codemirror_mode": {
    "name": "ipython",
    "version": 3
   },
   "file_extension": ".py",
   "mimetype": "text/x-python",
   "name": "python",
   "nbconvert_exporter": "python",
   "pygments_lexer": "ipython3",
   "version": "3.10.14"
  },
  "vscode": {
   "interpreter": {
    "hash": "4e8ef2f9fcac0817bca9a7ca376f64f20b4df5ea3bf7af756a50bda7d3557ea6"
   }
  }
 },
 "nbformat": 4,
 "nbformat_minor": 5
}
