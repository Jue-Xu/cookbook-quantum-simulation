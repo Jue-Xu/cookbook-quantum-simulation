{
 "cells": [
  {
   "cell_type": "markdown",
   "metadata": {},
   "source": [
    "# Quantum simulation\n",
    "\n",
    "Tutorials given by\n",
    "- Nathan Wiebe: [[2024 IPAM UCLA]](https://youtu.be/MB2bzOXM0sM?si=sIhcu6Wa5yi98ntU) or [[2021 Simons Institute]](https://www.youtube.com/watch?v=X4gegxIuh1o) \n",
    "- Mario Motta: [[2024 Qiskit tutorial]](https://youtu.be/FN2BGJOYqKo?si=wUvCgHIekzkuK2xq)\n",
    "- Ignacio Cirac: [[QIP2023 tutorial]](https://www.youtube.com/watch?v=n6oOsjvxDZg)\n",
    "- Andrew Childs: [[QIP2021 tutorial, part]](https://www.youtube.com/watch?v=M0e5gkf7QSQ  )\n"
   ]
  },
  {
   "cell_type": "markdown",
   "metadata": {},
   "source": [
    "## Quantum dynamic simulation"
   ]
  },
  {
   "cell_type": "markdown",
   "metadata": {},
   "source": [
    "## Quantum equilibrium simulation"
   ]
  },
  {
   "cell_type": "markdown",
   "metadata": {},
   "source": [
    "## Quantum ground state simulation"
   ]
  }
 ],
 "metadata": {
  "kernelspec": {
   "display_name": "base",
   "language": "python",
   "name": "python3"
  },
  "language_info": {
   "codemirror_mode": {
    "name": "ipython",
    "version": 3
   },
   "file_extension": ".py",
   "mimetype": "text/x-python",
   "name": "python",
   "nbconvert_exporter": "python",
   "pygments_lexer": "ipython3",
   "version": "3.10.14"
  }
 },
 "nbformat": 4,
 "nbformat_minor": 2
}
