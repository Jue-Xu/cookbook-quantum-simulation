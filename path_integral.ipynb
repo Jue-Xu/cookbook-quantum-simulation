{
 "cells": [
  {
   "cell_type": "markdown",
   "id": "8b24f5d3",
   "metadata": {},
   "source": [
    "# Pauli path integral\n",
    "\n",
    "Main Reference:\n",
    "- [A polynomial-time classical algorithm for noisy quantum circuits](http://arxiv.org/abs/2407.12768)\n",
    "- [quantum mean value]()\n",
    "- [A Polynomial-Time Classical Algorithm for Noisy Random Circuit Sampling](https://arxiv.org/abs/2211.03999)\n",
    "- non-unital ...\n",
    "\n",
    "Talk:\n",
    "- [STOC 2023 by Liu](https://youtu.be/-CVqKpdLuLA)\n",
    "- [Simons by Liu](https://www.youtube.com/watch?v=zDnA1gu4QO0)\n",
    "- [QIP by Aharonov](https://youtu.be/kneaV0-sqGs)\n",
    "\n",
    ".... todo"
   ]
  },
  {
   "cell_type": "markdown",
   "id": "4bf359a2",
   "metadata": {},
   "source": [
    "PauliPropagation.jl is a Julia package for Pauli propagation simulation of quantum circuits and quantum systems.\n",
    "\n",
    "https://github.com/MSRudolph/PauliPropagation.jl"
   ]
  },
  {
   "cell_type": "markdown",
   "id": "e9b0fde5",
   "metadata": {},
   "source": [
    "## Trotter circuit"
   ]
  },
  {
   "cell_type": "code",
   "execution_count": 1,
   "id": "be9b368c",
   "metadata": {},
   "outputs": [
    {
     "data": {
      "text/plain": [
       "0.15459672824142454"
      ]
     },
     "metadata": {},
     "output_type": "display_data"
    }
   ],
   "source": [
    "using PauliPropagation\n",
    "\n",
    "## number of qubits\n",
    "nqubits = 32\n",
    "\n",
    "## define the observable\n",
    "# here I...IZI...I\n",
    "observable = PauliString(nqubits, :Z, 16)\n",
    "\n",
    "## define the circuit\n",
    "# the number of layers\n",
    "nlayers = 32\n",
    "\n",
    "# bricklayertopology is also the default if you don't provide any\n",
    "topology = bricklayertopology(nqubits; periodic=true)\n",
    "\n",
    "# a circuit containing RX and RZZ Pauli gates on the topology\n",
    "# derived from the Trotterization of a transverse field Ising Hamiltonian\n",
    "circuit = tfitrottercircuit(nqubits, nlayers; topology=topology)\n",
    "\n",
    "# time step\n",
    "dt = 0.1\n",
    "# count the number of parameters\n",
    "nparams = countparameters(circuit)\n",
    "# define the parameter vector\n",
    "parameters = ones(nparams) * dt\n",
    "\n",
    "## the truncations\n",
    "# maximum Pauli weight\n",
    "max_weight = 6\n",
    "# minimal coefficient magnitude\n",
    "min_abs_coeff = 1e-4\n",
    "\n",
    "## propagate through the circuit with our best (and currently only propagation method)\n",
    "pauli_sum = propagate(circuit, observable, parameters; max_weight=max_weight, min_abs_coeff=min_abs_coeff)\n",
    "\n",
    "## overlap with the initial state\n",
    "overlapwithzero(pauli_sum)\n",
    "# yields 0.154596728241..."
   ]
  }
 ],
 "metadata": {
  "kernelspec": {
   "display_name": "Julia 1.10.2",
   "language": "julia",
   "name": "julia-1.10"
  },
  "language_info": {
   "file_extension": ".jl",
   "mimetype": "application/julia",
   "name": "julia",
   "version": "1.10.2"
  },
  "vscode": {
   "interpreter": {
    "hash": "4e8ef2f9fcac0817bca9a7ca376f64f20b4df5ea3bf7af756a50bda7d3557ea6"
   }
  }
 },
 "nbformat": 4,
 "nbformat_minor": 5
}
