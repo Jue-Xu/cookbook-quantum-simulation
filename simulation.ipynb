{
 "cells": [
  {
   "cell_type": "markdown",
   "metadata": {},
   "source": [
    "# Quantum simulation\n",
    "\n",
    "Tutorials (long videos) given by\n",
    "- Andrew Childs: [[IAS 2024]](https://youtu.be/Q1FcHnxE1RY?si=J-WIiHWx67SZZUJ3)\n",
    "- Nathan Wiebe: [[2024 IPAM UCLA]](https://youtu.be/MB2bzOXM0sM?si=sIhcu6Wa5yi98ntU) or [[2021 Simons Institute]](https://www.youtube.com/watch?v=X4gegxIuh1o) \n",
    "- Mario Motta: [[2024 Qiskit tutorial]](https://youtu.be/FN2BGJOYqKo?si=wUvCgHIekzkuK2xq)\n",
    "- Ignacio Cirac: [[QIP2023 tutorial]](https://www.youtube.com/watch?v=n6oOsjvxDZg)\n",
    "- Ignacio Cirac: [[IAS 2024]](https://youtu.be/K788DYPjL_c?si=VmFDEl30E99uDrVD) on Experimental Implementations\n",
    "<!-- , [[QIP2021 tutorial, part]](https://www.youtube.com/watch?v=M0e5gkf7QSQ  ) -->\n",
    "\n",
    "Textbook or notes:\n",
    "- Chapter 11, 12 of [Quantum Information Science](https://academic.oup.com/book/51893) by Riccardo Manenti, Mario Motta\n",
    "- Part V of Andrew Childs's lecture notes\n",
    "- Nature physics review\n",
    "- RMP (out-of-date)"
   ]
  },
  {
   "cell_type": "markdown",
   "metadata": {},
   "source": [
    "## Quantum dynamic simulation"
   ]
  },
  {
   "cell_type": "markdown",
   "metadata": {},
   "source": [
    "## Quantum equilibrium simulation"
   ]
  },
  {
   "cell_type": "markdown",
   "metadata": {},
   "source": [
    "## Quantum ground state simulation"
   ]
  },
  {
   "cell_type": "markdown",
   "metadata": {},
   "source": [
    "## Analog simulation\n",
    "\n",
    "[QuICS 1st workshop on Advancing Quantum Computation Beyond Gate-Model (BGM2024)](https://www.youtube.com/playlist?list=PLUz_4vZOI0H1A4V_NofenMvTJeLZGPfes)"
   ]
  }
 ],
 "metadata": {
  "kernelspec": {
   "display_name": "base",
   "language": "python",
   "name": "python3"
  },
  "language_info": {
   "codemirror_mode": {
    "name": "ipython",
    "version": 3
   },
   "file_extension": ".py",
   "mimetype": "text/x-python",
   "name": "python",
   "nbconvert_exporter": "python",
   "pygments_lexer": "ipython3",
   "version": "3.10.14"
  }
 },
 "nbformat": 4,
 "nbformat_minor": 2
}
